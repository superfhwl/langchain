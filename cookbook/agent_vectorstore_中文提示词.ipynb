{
 "cells": [
  {
   "cell_type": "markdown",
   "id": "68b24990",
   "metadata": {},
   "source": [
    "# 结合代理和矢量存储\n",
    "\n",
    "本手册介绍了如何组合代理和矢量存储。这样做的用例是，您已经将数据摄取到矢量存储中，并希望以代理的方式与之交互。\n",
    "\n",
    "推荐的方法是创建`RetrievalQA`，然后将其用作整个代理中的工具。让我们看看下面是怎么做的。您可以对多个不同的矢量db执行此操作，并使用代理作为在它们之间进行路由的方法。有两种不同的方法可以做到这一点——你可以让代理使用向量存储作为普通工具，或者你可以设置`return_direct=True`来真正地将代理用作路由器。"
   ]
  },
  {
   "cell_type": "markdown",
   "id": "9b22020a",
   "metadata": {},
   "source": [
    "## Create the vector store"
   ]
  },
  {
   "cell_type": "code",
   "execution_count": 33,
   "id": "2e87c10a",
   "metadata": {},
   "outputs": [],
   "source": [
    "from langchain.chains import RetrievalQA\n",
    "from langchain_community.vectorstores import Chroma\n",
    "from langchain_openai import OpenAI, OpenAIEmbeddings\n",
    "from langchain_text_splitters import CharacterTextSplitter\n",
    "from langchain_community.chat_models import ChatOllama\n",
    "\n",
    "# llm = OpenAI(temperature=0)\n",
    "llm = ChatOllama(model=\"qwen:32b-chat-v1.5-q5_K_M\")"
   ]
  },
  {
   "cell_type": "code",
   "execution_count": 34,
   "id": "0b7b772b",
   "metadata": {},
   "outputs": [
    {
     "name": "stdout",
     "output_type": "stream",
     "text": [
      "/home/huangwei1/repo/langchain/cookbook/流浪地球.txt\n"
     ]
    }
   ],
   "source": [
    "from pathlib import Path\n",
    "\n",
    "doc_path = str(Path(\".\").absolute() / \"流浪地球.txt\")\n",
    "print(doc_path)"
   ]
  },
  {
   "cell_type": "code",
   "execution_count": 35,
   "id": "f2675861",
   "metadata": {},
   "outputs": [],
   "source": [
    "from langchain_community.document_loaders import TextLoader\n",
    "from langchain_community.embeddings import OllamaEmbeddings\n",
    "\n",
    "\n",
    "loader = TextLoader(doc_path)\n",
    "documents = loader.load()\n",
    "text_splitter = CharacterTextSplitter(chunk_size=1000, chunk_overlap=0)\n",
    "texts = text_splitter.split_documents(documents)\n",
    "\n",
    "embeddings = OllamaEmbeddings(model=\"znbang/bge:large-zh-v1.5-f16\")\n",
    "docsearch = Chroma.from_documents(texts, embeddings, collection_name=\"LiuCixin-WanderingEarth\")"
   ]
  },
  {
   "cell_type": "code",
   "execution_count": 36,
   "id": "bc5403d4",
   "metadata": {},
   "outputs": [],
   "source": [
    "state_of_union = RetrievalQA.from_chain_type(\n",
    "    llm=llm, chain_type=\"stuff\", retriever=docsearch.as_retriever()\n",
    ")"
   ]
  },
  {
   "cell_type": "code",
   "execution_count": 37,
   "id": "1431cded",
   "metadata": {},
   "outputs": [],
   "source": [
    "from langchain_community.document_loaders import WebBaseLoader"
   ]
  },
  {
   "cell_type": "code",
   "execution_count": 38,
   "id": "915d3ff3",
   "metadata": {},
   "outputs": [],
   "source": [
    "urls = [\"http://71.136.100.40:3000/?wework_cfm_code=MoL9rcXqCEX2sOXsQF8QRLWWz2NKlLNTXHflPKSOu22ZGPZv%2B4%2BI86KrzytAQ%2F%2FePVNxWUutHYlKRjEP20YhSI0%3D#/README\"\n",
    "        \"http://71.136.100.40:3000/?wework_cfm_code=MoL9rcXqCEX2sOXsQF8QRLWWz2NKlLNTXHflPKSOu22ZGPZv%2B4%2BI86KrzytAQ%2F%2FePVNxWUutHYlKRjEP20YhSI0%3D#/README\"\n",
    "        \"http://71.136.100.40:3000/?wework_cfm_code=MoL9rcXqCEX2sOXsQF8QRLWWz2NKlLNTXHflPKSOu22ZGPZv%2B4%2BI86KrzytAQ%2F%2FePVNxWUutHYlKRjEP20YhSI0%3D#/intro/about\"\n",
    "        \"http://71.136.100.40:3000/?wework_cfm_code=MoL9rcXqCEX2sOXsQF8QRLWWz2NKlLNTXHflPKSOu22ZGPZv%2B4%2BI86KrzytAQ%2F%2FePVNxWUutHYlKRjEP20YhSI0%3D#/intro/industry\"\n",
    "        \"http://71.136.100.40:3000/?wework_cfm_code=MoL9rcXqCEX2sOXsQF8QRLWWz2NKlLNTXHflPKSOu22ZGPZv%2B4%2BI86KrzytAQ%2F%2FePVNxWUutHYlKRjEP20YhSI0%3D#/intro/usecase\"\n",
    "        \"http://71.136.100.40:3000/?wework_cfm_code=MoL9rcXqCEX2sOXsQF8QRLWWz2NKlLNTXHflPKSOu22ZGPZv%2B4%2BI86KrzytAQ%2F%2FePVNxWUutHYlKRjEP20YhSI0%3D#/intro/guide\"\n",
    "        \"http://71.136.100.40:3000/?wework_cfm_code=MoL9rcXqCEX2sOXsQF8QRLWWz2NKlLNTXHflPKSOu22ZGPZv%2B4%2BI86KrzytAQ%2F%2FePVNxWUutHYlKRjEP20YhSI0%3D#/intro/prequire\"\n",
    "        \"http://71.136.100.40:3000/?wework_cfm_code=MoL9rcXqCEX2sOXsQF8QRLWWz2NKlLNTXHflPKSOu22ZGPZv%2B4%2BI86KrzytAQ%2F%2FePVNxWUutHYlKRjEP20YhSI0%3D#/intro/installation\"\n",
    "        \"http://71.136.100.40:3000/?wework_cfm_code=MoL9rcXqCEX2sOXsQF8QRLWWz2NKlLNTXHflPKSOu22ZGPZv%2B4%2BI86KrzytAQ%2F%2FePVNxWUutHYlKRjEP20YhSI0%3D#/intro/datalink_install\"\n",
    "        \"http://71.136.100.40:3000/?wework_cfm_code=MoL9rcXqCEX2sOXsQF8QRLWWz2NKlLNTXHflPKSOu22ZGPZv%2B4%2BI86KrzytAQ%2F%2FePVNxWUutHYlKRjEP20YhSI0%3D#/intro/gui\"\n",
    "        \"http://71.136.100.40:3000/?wework_cfm_code=MoL9rcXqCEX2sOXsQF8QRLWWz2NKlLNTXHflPKSOu22ZGPZv%2B4%2BI86KrzytAQ%2F%2FePVNxWUutHYlKRjEP20YhSI0%3D#/intro/workflow\"\n",
    "        \"http://71.136.100.40:3000/?wework_cfm_code=MoL9rcXqCEX2sOXsQF8QRLWWz2NKlLNTXHflPKSOu22ZGPZv%2B4%2BI86KrzytAQ%2F%2FePVNxWUutHYlKRjEP20YhSI0%3D#/intro/coloboration\"\n",
    "        \"http://71.136.100.40:3000/?wework_cfm_code=MoL9rcXqCEX2sOXsQF8QRLWWz2NKlLNTXHflPKSOu22ZGPZv%2B4%2BI86KrzytAQ%2F%2FePVNxWUutHYlKRjEP20YhSI0%3D#/USD/collaborate\"\n",
    "        \"http://71.136.100.40:3000/?wework_cfm_code=MoL9rcXqCEX2sOXsQF8QRLWWz2NKlLNTXHflPKSOu22ZGPZv%2B4%2BI86KrzytAQ%2F%2FePVNxWUutHYlKRjEP20YhSI0%3D#/USD/why\"\n",
    "        \"http://71.136.100.40:3000/?wework_cfm_code=MoL9rcXqCEX2sOXsQF8QRLWWz2NKlLNTXHflPKSOu22ZGPZv%2B4%2BI86KrzytAQ%2F%2FePVNxWUutHYlKRjEP20YhSI0%3D#/USD/can\"\n",
    "        \"http://71.136.100.40:3000/?wework_cfm_code=MoL9rcXqCEX2sOXsQF8QRLWWz2NKlLNTXHflPKSOu22ZGPZv%2B4%2BI86KrzytAQ%2F%2FePVNxWUutHYlKRjEP20YhSI0%3D#/USD/cannot\"\n",
    "        \"http://71.136.100.40:3000/?wework_cfm_code=MoL9rcXqCEX2sOXsQF8QRLWWz2NKlLNTXHflPKSOu22ZGPZv%2B4%2BI86KrzytAQ%2F%2FePVNxWUutHYlKRjEP20YhSI0%3D#/USD/pixar\"\n",
    "        \"http://71.136.100.40:3000/?wework_cfm_code=MoL9rcXqCEX2sOXsQF8QRLWWz2NKlLNTXHflPKSOu22ZGPZv%2B4%2BI86KrzytAQ%2F%2FePVNxWUutHYlKRjEP20YhSI0%3D#/USD/imaging\"\n",
    "        \"http://71.136.100.40:3000/?wework_cfm_code=MoL9rcXqCEX2sOXsQF8QRLWWz2NKlLNTXHflPKSOu22ZGPZv%2B4%2BI86KrzytAQ%2F%2FePVNxWUutHYlKRjEP20YhSI0%3D#/USD/lighting\"\n",
    "        \"http://71.136.100.40:3000/?wework_cfm_code=MoL9rcXqCEX2sOXsQF8QRLWWz2NKlLNTXHflPKSOu22ZGPZv%2B4%2BI86KrzytAQ%2F%2FePVNxWUutHYlKRjEP20YhSI0%3D#/USD/material\"\n",
    "        \"http://71.136.100.40:3000/?wework_cfm_code=MoL9rcXqCEX2sOXsQF8QRLWWz2NKlLNTXHflPKSOu22ZGPZv%2B4%2BI86KrzytAQ%2F%2FePVNxWUutHYlKRjEP20YhSI0%3D#/USD/format\"\n",
    "        \"http://71.136.100.40:3000/?wework_cfm_code=MoL9rcXqCEX2sOXsQF8QRLWWz2NKlLNTXHflPKSOu22ZGPZv%2B4%2BI86KrzytAQ%2F%2FePVNxWUutHYlKRjEP20YhSI0%3D#/USD/camera\"\n",
    "        \"http://71.136.100.40:3000/?wework_cfm_code=MoL9rcXqCEX2sOXsQF8QRLWWz2NKlLNTXHflPKSOu22ZGPZv%2B4%2BI86KrzytAQ%2F%2FePVNxWUutHYlKRjEP20YhSI0%3D#/USD/settings\"\n",
    "        \"http://71.136.100.40:3000/?wework_cfm_code=MoL9rcXqCEX2sOXsQF8QRLWWz2NKlLNTXHflPKSOu22ZGPZv%2B4%2BI86KrzytAQ%2F%2FePVNxWUutHYlKRjEP20YhSI0%3D#/USD/MayaOrca\"\n",
    "        \"http://71.136.100.40:3000/?wework_cfm_code=MoL9rcXqCEX2sOXsQF8QRLWWz2NKlLNTXHflPKSOu22ZGPZv%2B4%2BI86KrzytAQ%2F%2FePVNxWUutHYlKRjEP20YhSI0%3D#/engine/brief\"\n",
    "        \"http://71.136.100.40:3000/?wework_cfm_code=MoL9rcXqCEX2sOXsQF8QRLWWz2NKlLNTXHflPKSOu22ZGPZv%2B4%2BI86KrzytAQ%2F%2FePVNxWUutHYlKRjEP20YhSI0%3D#/engine/asset_processor\"\n",
    "        \"http://71.136.100.40:3000/?wework_cfm_code=MoL9rcXqCEX2sOXsQF8QRLWWz2NKlLNTXHflPKSOu22ZGPZv%2B4%2BI86KrzytAQ%2F%2FePVNxWUutHYlKRjEP20YhSI0%3D#/engine/pathtracer\"\n",
    "        \"http://71.136.100.40:3000/?wework_cfm_code=MoL9rcXqCEX2sOXsQF8QRLWWz2NKlLNTXHflPKSOu22ZGPZv%2B4%2BI86KrzytAQ%2F%2FePVNxWUutHYlKRjEP20YhSI0%3D#/engine/pbr_basic\"\n",
    "        \"http://71.136.100.40:3000/?wework_cfm_code=MoL9rcXqCEX2sOXsQF8QRLWWz2NKlLNTXHflPKSOu22ZGPZv%2B4%2BI86KrzytAQ%2F%2FePVNxWUutHYlKRjEP20YhSI0%3D#/engine/pbr_textures\"\n",
    "        \"http://71.136.100.40:3000/?wework_cfm_code=MoL9rcXqCEX2sOXsQF8QRLWWz2NKlLNTXHflPKSOu22ZGPZv%2B4%2BI86KrzytAQ%2F%2FePVNxWUutHYlKRjEP20YhSI0%3D#/engine/pbr_guide\"\n",
    "        \"http://71.136.100.40:3000/?wework_cfm_code=MoL9rcXqCEX2sOXsQF8QRLWWz2NKlLNTXHflPKSOu22ZGPZv%2B4%2BI86KrzytAQ%2F%2FePVNxWUutHYlKRjEP20YhSI0%3D#/engine/udim\"\n",
    "        \"http://71.136.100.40:3000/?wework_cfm_code=MoL9rcXqCEX2sOXsQF8QRLWWz2NKlLNTXHflPKSOu22ZGPZv%2B4%2BI86KrzytAQ%2F%2FePVNxWUutHYlKRjEP20YhSI0%3D#/engine/feature\"\n",
    "        \"http://71.136.100.40:3000/?wework_cfm_code=MoL9rcXqCEX2sOXsQF8QRLWWz2NKlLNTXHflPKSOu22ZGPZv%2B4%2BI86KrzytAQ%2F%2FePVNxWUutHYlKRjEP20YhSI0%3D#/engine/ros2\"\n",
    "        \"http://71.136.100.40:3000/?wework_cfm_code=MoL9rcXqCEX2sOXsQF8QRLWWz2NKlLNTXHflPKSOu22ZGPZv%2B4%2BI86KrzytAQ%2F%2FePVNxWUutHYlKRjEP20YhSI0%3D#/datalink/brief\"\n",
    "        \"http://71.136.100.40:3000/?wework_cfm_code=MoL9rcXqCEX2sOXsQF8QRLWWz2NKlLNTXHflPKSOu22ZGPZv%2B4%2BI86KrzytAQ%2F%2FePVNxWUutHYlKRjEP20YhSI0%3D#/connector/brief\"\n",
    "        \"http://71.136.100.40:3000/?wework_cfm_code=MoL9rcXqCEX2sOXsQF8QRLWWz2NKlLNTXHflPKSOu22ZGPZv%2B4%2BI86KrzytAQ%2F%2FePVNxWUutHYlKRjEP20YhSI0%3D#/connector/devguide\"\n",
    "        \"http://71.136.100.40:3000/?wework_cfm_code=MoL9rcXqCEX2sOXsQF8QRLWWz2NKlLNTXHflPKSOu22ZGPZv%2B4%2BI86KrzytAQ%2F%2FePVNxWUutHYlKRjEP20YhSI0%3D#/store/brief\"\n",
    "        \"http://71.136.100.40:3000/?wework_cfm_code=MoL9rcXqCEX2sOXsQF8QRLWWz2NKlLNTXHflPKSOu22ZGPZv%2B4%2BI86KrzytAQ%2F%2FePVNxWUutHYlKRjEP20YhSI0%3D#/connector/robot\"\n",
    "        \"http://71.136.100.40:3000/?wework_cfm_code=MoL9rcXqCEX2sOXsQF8QRLWWz2NKlLNTXHflPKSOu22ZGPZv%2B4%2BI86KrzytAQ%2F%2FePVNxWUutHYlKRjEP20YhSI0%3D#/connector/art\"\n",
    "        \"http://71.136.100.40:3000/?wework_cfm_code=MoL9rcXqCEX2sOXsQF8QRLWWz2NKlLNTXHflPKSOu22ZGPZv%2B4%2BI86KrzytAQ%2F%2FePVNxWUutHYlKRjEP20YhSI0%3D#/connector/AEC\"]\n",
    "loader = WebBaseLoader(urls)"
   ]
  },
  {
   "cell_type": "code",
   "execution_count": 39,
   "id": "96a2edf8",
   "metadata": {},
   "outputs": [
    {
     "name": "stdout",
     "output_type": "stream",
     "text": [
      "page_content='Document' metadata={'source': 'http://71.136.100.40:3000/?wework_cfm_code=MoL9rcXqCEX2sOXsQF8QRLWWz2NKlLNTXHflPKSOu22ZGPZv%2B4%2BI86KrzytAQ%2F%2FePVNxWUutHYlKRjEP20YhSI0%3D#/READMEhttp://71.136.100.40:3000/?wework_cfm_code=MoL9rcXqCEX2sOXsQF8QRLWWz2NKlLNTXHflPKSOu22ZGPZv%2B4%2BI86KrzytAQ%2F%2FePVNxWUutHYlKRjEP20YhSI0%3D#/READMEhttp://71.136.100.40:3000/?wework_cfm_code=MoL9rcXqCEX2sOXsQF8QRLWWz2NKlLNTXHflPKSOu22ZGPZv%2B4%2BI86KrzytAQ%2F%2FePVNxWUutHYlKRjEP20YhSI0%3D#/intro/abouthttp://71.136.100.40:3000/?wework_cfm_code=MoL9rcXqCEX2sOXsQF8QRLWWz2NKlLNTXHflPKSOu22ZGPZv%2B4%2BI86KrzytAQ%2F%2FePVNxWUutHYlKRjEP20YhSI0%3D#/intro/industryhttp://71.136.100.40:3000/?wework_cfm_code=MoL9rcXqCEX2sOXsQF8QRLWWz2NKlLNTXHflPKSOu22ZGPZv%2B4%2BI86KrzytAQ%2F%2FePVNxWUutHYlKRjEP20YhSI0%3D#/intro/usecasehttp://71.136.100.40:3000/?wework_cfm_code=MoL9rcXqCEX2sOXsQF8QRLWWz2NKlLNTXHflPKSOu22ZGPZv%2B4%2BI86KrzytAQ%2F%2FePVNxWUutHYlKRjEP20YhSI0%3D#/intro/guidehttp://71.136.100.40:3000/?wework_cfm_code=MoL9rcXqCEX2sOXsQF8QRLWWz2NKlLNTXHflPKSOu22ZGPZv%2B4%2BI86KrzytAQ%2F%2FePVNxWUutHYlKRjEP20YhSI0%3D#/intro/prequirehttp://71.136.100.40:3000/?wework_cfm_code=MoL9rcXqCEX2sOXsQF8QRLWWz2NKlLNTXHflPKSOu22ZGPZv%2B4%2BI86KrzytAQ%2F%2FePVNxWUutHYlKRjEP20YhSI0%3D#/intro/installationhttp://71.136.100.40:3000/?wework_cfm_code=MoL9rcXqCEX2sOXsQF8QRLWWz2NKlLNTXHflPKSOu22ZGPZv%2B4%2BI86KrzytAQ%2F%2FePVNxWUutHYlKRjEP20YhSI0%3D#/intro/datalink_installhttp://71.136.100.40:3000/?wework_cfm_code=MoL9rcXqCEX2sOXsQF8QRLWWz2NKlLNTXHflPKSOu22ZGPZv%2B4%2BI86KrzytAQ%2F%2FePVNxWUutHYlKRjEP20YhSI0%3D#/intro/guihttp://71.136.100.40:3000/?wework_cfm_code=MoL9rcXqCEX2sOXsQF8QRLWWz2NKlLNTXHflPKSOu22ZGPZv%2B4%2BI86KrzytAQ%2F%2FePVNxWUutHYlKRjEP20YhSI0%3D#/intro/workflowhttp://71.136.100.40:3000/?wework_cfm_code=MoL9rcXqCEX2sOXsQF8QRLWWz2NKlLNTXHflPKSOu22ZGPZv%2B4%2BI86KrzytAQ%2F%2FePVNxWUutHYlKRjEP20YhSI0%3D#/intro/coloborationhttp://71.136.100.40:3000/?wework_cfm_code=MoL9rcXqCEX2sOXsQF8QRLWWz2NKlLNTXHflPKSOu22ZGPZv%2B4%2BI86KrzytAQ%2F%2FePVNxWUutHYlKRjEP20YhSI0%3D#/USD/collaboratehttp://71.136.100.40:3000/?wework_cfm_code=MoL9rcXqCEX2sOXsQF8QRLWWz2NKlLNTXHflPKSOu22ZGPZv%2B4%2BI86KrzytAQ%2F%2FePVNxWUutHYlKRjEP20YhSI0%3D#/USD/whyhttp://71.136.100.40:3000/?wework_cfm_code=MoL9rcXqCEX2sOXsQF8QRLWWz2NKlLNTXHflPKSOu22ZGPZv%2B4%2BI86KrzytAQ%2F%2FePVNxWUutHYlKRjEP20YhSI0%3D#/USD/canhttp://71.136.100.40:3000/?wework_cfm_code=MoL9rcXqCEX2sOXsQF8QRLWWz2NKlLNTXHflPKSOu22ZGPZv%2B4%2BI86KrzytAQ%2F%2FePVNxWUutHYlKRjEP20YhSI0%3D#/USD/cannothttp://71.136.100.40:3000/?wework_cfm_code=MoL9rcXqCEX2sOXsQF8QRLWWz2NKlLNTXHflPKSOu22ZGPZv%2B4%2BI86KrzytAQ%2F%2FePVNxWUutHYlKRjEP20YhSI0%3D#/USD/pixarhttp://71.136.100.40:3000/?wework_cfm_code=MoL9rcXqCEX2sOXsQF8QRLWWz2NKlLNTXHflPKSOu22ZGPZv%2B4%2BI86KrzytAQ%2F%2FePVNxWUutHYlKRjEP20YhSI0%3D#/USD/imaginghttp://71.136.100.40:3000/?wework_cfm_code=MoL9rcXqCEX2sOXsQF8QRLWWz2NKlLNTXHflPKSOu22ZGPZv%2B4%2BI86KrzytAQ%2F%2FePVNxWUutHYlKRjEP20YhSI0%3D#/USD/lightinghttp://71.136.100.40:3000/?wework_cfm_code=MoL9rcXqCEX2sOXsQF8QRLWWz2NKlLNTXHflPKSOu22ZGPZv%2B4%2BI86KrzytAQ%2F%2FePVNxWUutHYlKRjEP20YhSI0%3D#/USD/materialhttp://71.136.100.40:3000/?wework_cfm_code=MoL9rcXqCEX2sOXsQF8QRLWWz2NKlLNTXHflPKSOu22ZGPZv%2B4%2BI86KrzytAQ%2F%2FePVNxWUutHYlKRjEP20YhSI0%3D#/USD/formathttp://71.136.100.40:3000/?wework_cfm_code=MoL9rcXqCEX2sOXsQF8QRLWWz2NKlLNTXHflPKSOu22ZGPZv%2B4%2BI86KrzytAQ%2F%2FePVNxWUutHYlKRjEP20YhSI0%3D#/USD/camerahttp://71.136.100.40:3000/?wework_cfm_code=MoL9rcXqCEX2sOXsQF8QRLWWz2NKlLNTXHflPKSOu22ZGPZv%2B4%2BI86KrzytAQ%2F%2FePVNxWUutHYlKRjEP20YhSI0%3D#/USD/settingshttp://71.136.100.40:3000/?wework_cfm_code=MoL9rcXqCEX2sOXsQF8QRLWWz2NKlLNTXHflPKSOu22ZGPZv%2B4%2BI86KrzytAQ%2F%2FePVNxWUutHYlKRjEP20YhSI0%3D#/USD/MayaOrcahttp://71.136.100.40:3000/?wework_cfm_code=MoL9rcXqCEX2sOXsQF8QRLWWz2NKlLNTXHflPKSOu22ZGPZv%2B4%2BI86KrzytAQ%2F%2FePVNxWUutHYlKRjEP20YhSI0%3D#/engine/briefhttp://71.136.100.40:3000/?wework_cfm_code=MoL9rcXqCEX2sOXsQF8QRLWWz2NKlLNTXHflPKSOu22ZGPZv%2B4%2BI86KrzytAQ%2F%2FePVNxWUutHYlKRjEP20YhSI0%3D#/engine/asset_processorhttp://71.136.100.40:3000/?wework_cfm_code=MoL9rcXqCEX2sOXsQF8QRLWWz2NKlLNTXHflPKSOu22ZGPZv%2B4%2BI86KrzytAQ%2F%2FePVNxWUutHYlKRjEP20YhSI0%3D#/engine/pathtracerhttp://71.136.100.40:3000/?wework_cfm_code=MoL9rcXqCEX2sOXsQF8QRLWWz2NKlLNTXHflPKSOu22ZGPZv%2B4%2BI86KrzytAQ%2F%2FePVNxWUutHYlKRjEP20YhSI0%3D#/engine/pbr_basichttp://71.136.100.40:3000/?wework_cfm_code=MoL9rcXqCEX2sOXsQF8QRLWWz2NKlLNTXHflPKSOu22ZGPZv%2B4%2BI86KrzytAQ%2F%2FePVNxWUutHYlKRjEP20YhSI0%3D#/engine/pbr_textureshttp://71.136.100.40:3000/?wework_cfm_code=MoL9rcXqCEX2sOXsQF8QRLWWz2NKlLNTXHflPKSOu22ZGPZv%2B4%2BI86KrzytAQ%2F%2FePVNxWUutHYlKRjEP20YhSI0%3D#/engine/pbr_guidehttp://71.136.100.40:3000/?wework_cfm_code=MoL9rcXqCEX2sOXsQF8QRLWWz2NKlLNTXHflPKSOu22ZGPZv%2B4%2BI86KrzytAQ%2F%2FePVNxWUutHYlKRjEP20YhSI0%3D#/engine/udimhttp://71.136.100.40:3000/?wework_cfm_code=MoL9rcXqCEX2sOXsQF8QRLWWz2NKlLNTXHflPKSOu22ZGPZv%2B4%2BI86KrzytAQ%2F%2FePVNxWUutHYlKRjEP20YhSI0%3D#/engine/featurehttp://71.136.100.40:3000/?wework_cfm_code=MoL9rcXqCEX2sOXsQF8QRLWWz2NKlLNTXHflPKSOu22ZGPZv%2B4%2BI86KrzytAQ%2F%2FePVNxWUutHYlKRjEP20YhSI0%3D#/engine/ros2http://71.136.100.40:3000/?wework_cfm_code=MoL9rcXqCEX2sOXsQF8QRLWWz2NKlLNTXHflPKSOu22ZGPZv%2B4%2BI86KrzytAQ%2F%2FePVNxWUutHYlKRjEP20YhSI0%3D#/datalink/briefhttp://71.136.100.40:3000/?wework_cfm_code=MoL9rcXqCEX2sOXsQF8QRLWWz2NKlLNTXHflPKSOu22ZGPZv%2B4%2BI86KrzytAQ%2F%2FePVNxWUutHYlKRjEP20YhSI0%3D#/connector/briefhttp://71.136.100.40:3000/?wework_cfm_code=MoL9rcXqCEX2sOXsQF8QRLWWz2NKlLNTXHflPKSOu22ZGPZv%2B4%2BI86KrzytAQ%2F%2FePVNxWUutHYlKRjEP20YhSI0%3D#/connector/devguidehttp://71.136.100.40:3000/?wework_cfm_code=MoL9rcXqCEX2sOXsQF8QRLWWz2NKlLNTXHflPKSOu22ZGPZv%2B4%2BI86KrzytAQ%2F%2FePVNxWUutHYlKRjEP20YhSI0%3D#/store/briefhttp://71.136.100.40:3000/?wework_cfm_code=MoL9rcXqCEX2sOXsQF8QRLWWz2NKlLNTXHflPKSOu22ZGPZv%2B4%2BI86KrzytAQ%2F%2FePVNxWUutHYlKRjEP20YhSI0%3D#/connector/robothttp://71.136.100.40:3000/?wework_cfm_code=MoL9rcXqCEX2sOXsQF8QRLWWz2NKlLNTXHflPKSOu22ZGPZv%2B4%2BI86KrzytAQ%2F%2FePVNxWUutHYlKRjEP20YhSI0%3D#/connector/arthttp://71.136.100.40:3000/?wework_cfm_code=MoL9rcXqCEX2sOXsQF8QRLWWz2NKlLNTXHflPKSOu22ZGPZv%2B4%2BI86KrzytAQ%2F%2FePVNxWUutHYlKRjEP20YhSI0%3D#/connector/AEC', 'title': 'Document', 'description': 'Description', 'language': 'en'}\n"
     ]
    }
   ],
   "source": [
    "docs = loader.load()\n",
    "ruff_texts = text_splitter.split_documents(docs)\n",
    "for r in ruff_texts:\n",
    "    print(r)\n",
    "ruff_db = Chroma.from_documents(ruff_texts, embeddings, collection_name=\"Songyin-OrcaStudio\")\n",
    "ruff = RetrievalQA.from_chain_type(\n",
    "    llm=llm, chain_type=\"stuff\", retriever=ruff_db.as_retriever()\n",
    ")"
   ]
  },
  {
   "cell_type": "markdown",
   "id": "c0a6c031",
   "metadata": {},
   "source": [
    "## Create the Agent"
   ]
  },
  {
   "cell_type": "code",
   "execution_count": 40,
   "id": "eb142786",
   "metadata": {},
   "outputs": [],
   "source": [
    "# Import things that are needed generically\n",
    "from langchain.agents import AgentType, Tool, initialize_agent\n",
    "from langchain_openai import OpenAI"
   ]
  },
  {
   "cell_type": "code",
   "execution_count": 41,
   "id": "850bc4e9",
   "metadata": {},
   "outputs": [],
   "source": [
    "tools = [\n",
    "    Tool(\n",
    "        name=\"流浪地球 问答系统\",\n",
    "        func=state_of_union.run,\n",
    "        description=\"当您需要回答有关最新流浪地球的问题时，非常有用。输入应该是一个完全形成的问题。\",\n",
    "    ),\n",
    "    Tool(\n",
    "        name=\"松应科技 OrcaStudio 问答系统\",\n",
    "        func=ruff.run,\n",
    "        description=\"当您需要回答有关松应科技 OrcaStudio（一种3D内容协作平台）的问题时非常有用。输入应该是一个完全形成的问题。\",\n",
    "    ),\n",
    "]"
   ]
  },
  {
   "cell_type": "code",
   "execution_count": 42,
   "id": "fc47f230",
   "metadata": {},
   "outputs": [],
   "source": [
    "# Construct the agent. We will use the default agent type here.\n",
    "# See documentation for a full list of options.\n",
    "agent = initialize_agent(\n",
    "    tools, llm, agent=AgentType.ZERO_SHOT_REACT_DESCRIPTION, verbose=True\n",
    ")"
   ]
  },
  {
   "cell_type": "code",
   "execution_count": 43,
   "id": "10ca2db8",
   "metadata": {},
   "outputs": [
    {
     "name": "stdout",
     "output_type": "stream",
     "text": [
      "\n",
      "\n",
      "\u001b[1m> Entering new AgentExecutor chain...\u001b[0m\n",
      "\u001b[32;1m\u001b[1;3m 这个问题涉及到流浪地球故事的背景时间，我需要使用流浪地球问答系统来查找这个信息。\n",
      "Action: 流浪地球 问答系统\n",
      "Action Input: 在哪个年份发生的故事\u001b[0m\n",
      "Observation: \u001b[36;1m\u001b[1;3m故事中并没有直接提及具体的年份，但给出了刹车时代结束的背景，以及爷爷三十年前目睹上海被洪水吞没的情景。如果我们将这个信息作为线索，我们可以推断故事发生在地球开始流浪（刹车时代结束后）且距离爷爷目睹洪水事件至少三十年后的时期。由于这些具体时间点没有提供详细的年份，我们无法确定一个确切的年份。如果你有关于故事背景的其他细节或需要设定一个合理的时间框架，请告知我，我可以帮助你进一步分析。\u001b[0m\n",
      "Thought:\u001b[32;1m\u001b[1;3m 现有的系统工具无法给出精确答案，因为电影并没有明确给出具体的年代。\n",
      "Final Answer: 流浪地球的故事发生的具体年份并未在电影中明确定义，但可以根据剧情线索进行推测。如果需要一个基于推测的年代，我们可以从刹车时代结束和主角祖父所描述的历史事件出发，但这依然不是一个确切的时间点。\u001b[0m\n",
      "\n",
      "\u001b[1m> Finished chain.\u001b[0m\n"
     ]
    },
    {
     "data": {
      "text/plain": [
       "'流浪地球的故事发生的具体年份并未在电影中明确定义，但可以根据剧情线索进行推测。如果需要一个基于推测的年代，我们可以从刹车时代结束和主角祖父所描述的历史事件出发，但这依然不是一个确切的时间点。'"
      ]
     },
     "execution_count": 43,
     "metadata": {},
     "output_type": "execute_result"
    }
   ],
   "source": [
    "agent.run(\n",
    "    \"流浪地球是发生在哪一年的故事？\"\n",
    ")"
   ]
  },
  {
   "cell_type": "code",
   "execution_count": 44,
   "id": "4e91b811",
   "metadata": {},
   "outputs": [
    {
     "name": "stdout",
     "output_type": "stream",
     "text": [
      "\n",
      "\n",
      "\u001b[1m> Entering new AgentExecutor chain...\u001b[0m\n",
      "\u001b[32;1m\u001b[1;3m 我需要查询松应科技OrcaStudio的定位信息。\n",
      "Action: 松应科技 OrcaStudio 问答系统\n",
      "Action Input: OrcaStudio的定位是什么\u001b[0m\n",
      "Observation: \u001b[33;1m\u001b[1;3m对不起，我不知道OrcaStudio的定位是什么。我无法从给定的文档中获取相关信息。\u001b[0m\n",
      "Thought:\u001b[32;1m\u001b[1;3m 我需要改用一般性知识来回答。\n",
      "Final Answer: 松应科技的OrcaStudio可能是一个3D内容协作平台，但具体的市场定位没有直接信息。一般来说，这样的平台可能会定位在3D设计、建筑可视化、游戏开发或者教育培训等领域，提供一个让团队成员可以共同创作、编辑和分享3D内容的工具。要获取准确的定位描述，建议查阅官方文档或访问松应科技的官方网站获取最新信息。\u001b[0m\n",
      "\n",
      "\u001b[1m> Finished chain.\u001b[0m\n"
     ]
    },
    {
     "data": {
      "text/plain": [
       "'松应科技的OrcaStudio可能是一个3D内容协作平台，但具体的市场定位没有直接信息。一般来说，这样的平台可能会定位在3D设计、建筑可视化、游戏开发或者教育培训等领域，提供一个让团队成员可以共同创作、编辑和分享3D内容的工具。要获取准确的定位描述，建议查阅官方文档或访问松应科技的官方网站获取最新信息。'"
      ]
     },
     "execution_count": 44,
     "metadata": {},
     "output_type": "execute_result"
    }
   ],
   "source": [
    "agent.run(\"OrcaStudio定位于?\")"
   ]
  },
  {
   "cell_type": "markdown",
   "id": "787a9b5e",
   "metadata": {},
   "source": [
    "## Use the Agent solely as a router"
   ]
  },
  {
   "cell_type": "markdown",
   "id": "9161ba91",
   "metadata": {},
   "source": [
    "如果您打算使用代理作为路由器，并且只是想直接返回RetrievalQAChain的结果，您也可以设置`return_direct=True`。\n",
    "\n",
    "注意，在上面的示例中，代理在查询RetrievalQAChain之后做了一些额外的工作。你可以避免这个，直接返回结果。"
   ]
  },
  {
   "cell_type": "code",
   "execution_count": 13,
   "id": "f59b377e",
   "metadata": {},
   "outputs": [],
   "source": [
    "tools = [\n",
    "    Tool(\n",
    "        name=\"流浪地球 问答系统\",\n",
    "        func=state_of_union.run,\n",
    "        description=\"当您需要回答有关最新流浪地球的问题时，非常有用。输入应该是一个完全形成的问题。\",\n",
    "        return_direct=True,\n",
    "    ),\n",
    "    Tool(\n",
    "        name=\"松应科技 OrcaStudio 问答系统\",\n",
    "        func=ruff.run,\n",
    "        description=\"当您需要回答有关松应科技 OrcaStudio（一种3D内容协作平台）的问题时非常有用。输入应该是一个完全形成的问题。\",\n",
    "        return_direct=True,\n",
    "    ),\n",
    "]"
   ]
  },
  {
   "cell_type": "code",
   "execution_count": 14,
   "id": "8615707a",
   "metadata": {},
   "outputs": [],
   "source": [
    "agent = initialize_agent(\n",
    "    tools, llm, agent=AgentType.ZERO_SHOT_REACT_DESCRIPTION, verbose=True\n",
    ")"
   ]
  },
  {
   "cell_type": "code",
   "execution_count": 15,
   "id": "36e718a9",
   "metadata": {},
   "outputs": [
    {
     "name": "stdout",
     "output_type": "stream",
     "text": [
      "\n",
      "\n",
      "\u001b[1m> Entering new AgentExecutor chain...\u001b[0m\n",
      "\u001b[32;1m\u001b[1;3m 我需要调用流浪地球问答系统来查找这个故事的时间框架。\n",
      "Action: 流浪地球 问答系统\n",
      "Action Input: 故事《流浪地球》发生的具体年份是什么\u001b[0m\n",
      "Observation: \u001b[36;1m\u001b[1;3m故事《流浪地球》并未提供具体的发生年份。它讲述的是在不远的未来，太阳老化引发的一系列事件，导致人类不得不启动“流浪地球”计划，逃离太阳系寻找新的居住星球。小说中的时间线主要参照了地球发动机运行和地球流浪的时间跨度，如500年的加速阶段等，而不是基于现实世界的年份。\u001b[0m\n",
      "\u001b[32;1m\u001b[1;3m\u001b[0m\n",
      "\n",
      "\u001b[1m> Finished chain.\u001b[0m\n"
     ]
    },
    {
     "data": {
      "text/plain": [
       "'故事《流浪地球》并未提供具体的发生年份。它讲述的是在不远的未来，太阳老化引发的一系列事件，导致人类不得不启动“流浪地球”计划，逃离太阳系寻找新的居住星球。小说中的时间线主要参照了地球发动机运行和地球流浪的时间跨度，如500年的加速阶段等，而不是基于现实世界的年份。'"
      ]
     },
     "execution_count": 15,
     "metadata": {},
     "output_type": "execute_result"
    }
   ],
   "source": [
    "agent.run(\n",
    "    \"流浪地球是发生在哪一年的故事？\"\n",
    ")"
   ]
  },
  {
   "cell_type": "code",
   "execution_count": 16,
   "id": "edfd0a1a",
   "metadata": {},
   "outputs": [
    {
     "name": "stdout",
     "output_type": "stream",
     "text": [
      "\n",
      "\n",
      "\u001b[1m> Entering new AgentExecutor chain...\u001b[0m\n",
      "\u001b[32;1m\u001b[1;3m 我需要调用OrcaStudio的问答系统来回答关于其降低成本的具体方法。\n",
      "Action: 松应科技 OrcaStudio 问答系统\n",
      "Action Input: 如何通过OrcaStudio降低3D内容协作的成本\u001b[0m"
     ]
    },
    {
     "name": "stderr",
     "output_type": "stream",
     "text": [
      "Number of requested results 4 is greater than number of elements in index 1, updating n_results = 1\n"
     ]
    },
    {
     "name": "stdout",
     "output_type": "stream",
     "text": [
      "\n",
      "Observation: \u001b[33;1m\u001b[1;3mOrcaStudio 是一个强大的工具，可以用于优化和降低成本的 3D 内容协作。虽然我无法提供具体的步骤（因为我是一个基于文本的模型，不能直接操作软件），但我可以给你一些一般性的建议来帮助你利用 OrcaStudio 实现这个目标：\n",
      "\n",
      "1. **统一工作流程**：OrcaStudio 支持多种 3D 格式和工具，允许团队成员使用他们熟悉的工具集。这减少了学习新软件的时间，从而提高了效率。\n",
      "\n",
      "2. **实时协作**：通过 OrcaStudio 的实时共享编辑功能，团队成员可以同时在同一个项目上工作，消除了版本控制的问题，减少因协同不当导致的错误和重做工作。\n",
      "\n",
      "3. **自动化任务**：OrcaStudio 可能包含一些脚本或自动化工具，可以自动执行重复的任务，比如资源打包、优化或者预处理，这将节省大量手动操作的时间。\n",
      "\n",
      "4. **精细权限管理**：通过设置不同成员的访问权限，你可以确保只有授权人员才能更改关键内容，这样可以避免不必要的冲突和错误。\n",
      "\n",
      "5. **版本历史记录**：OrcaStudio 应该有完整的版本控制功能，允许你查看、回滚到过去的版本，这对于问题排查和项目管理非常有用，减少了因错误而造成的返工成本。\n",
      "\n",
      "6. **高效资产管理**：良好的资产管理可以帮助团队成员快速找到需要的资源，避免重复制作，节省时间。\n",
      "\n",
      "7. **可视化剧本编辑**：对于游戏开发或动画制作，OrcaStudio 的剧本编辑器可能允许你在 3D 环境中直接编写和预览脚本，减少在不同软件之间切换的时间。\n",
      "\n",
      "8. **集成第三方工具**：如果 OrcaStudio 能与你团队使用的其他创意工具（如 Maya、Unreal Engine 等）无缝对接，那么可以进一步提高效率，减少数据导入导出的困扰。\n",
      "\n",
      "9. **培训和文档支持**：利用提供的培训资源和详细文档，可以帮助新成员更快地熟悉软件，从而快速参与项目。\n",
      "\n",
      "要详细了解如何在 OrcaStudio 中实现这些功能，你应该查阅官方文档、教程或联系技术支持获取具体指导。\u001b[0m\n",
      "\u001b[32;1m\u001b[1;3m\u001b[0m\n",
      "\n",
      "\u001b[1m> Finished chain.\u001b[0m\n"
     ]
    },
    {
     "data": {
      "text/plain": [
       "'OrcaStudio 是一个强大的工具，可以用于优化和降低成本的 3D 内容协作。虽然我无法提供具体的步骤（因为我是一个基于文本的模型，不能直接操作软件），但我可以给你一些一般性的建议来帮助你利用 OrcaStudio 实现这个目标：\\n\\n1. **统一工作流程**：OrcaStudio 支持多种 3D 格式和工具，允许团队成员使用他们熟悉的工具集。这减少了学习新软件的时间，从而提高了效率。\\n\\n2. **实时协作**：通过 OrcaStudio 的实时共享编辑功能，团队成员可以同时在同一个项目上工作，消除了版本控制的问题，减少因协同不当导致的错误和重做工作。\\n\\n3. **自动化任务**：OrcaStudio 可能包含一些脚本或自动化工具，可以自动执行重复的任务，比如资源打包、优化或者预处理，这将节省大量手动操作的时间。\\n\\n4. **精细权限管理**：通过设置不同成员的访问权限，你可以确保只有授权人员才能更改关键内容，这样可以避免不必要的冲突和错误。\\n\\n5. **版本历史记录**：OrcaStudio 应该有完整的版本控制功能，允许你查看、回滚到过去的版本，这对于问题排查和项目管理非常有用，减少了因错误而造成的返工成本。\\n\\n6. **高效资产管理**：良好的资产管理可以帮助团队成员快速找到需要的资源，避免重复制作，节省时间。\\n\\n7. **可视化剧本编辑**：对于游戏开发或动画制作，OrcaStudio 的剧本编辑器可能允许你在 3D 环境中直接编写和预览脚本，减少在不同软件之间切换的时间。\\n\\n8. **集成第三方工具**：如果 OrcaStudio 能与你团队使用的其他创意工具（如 Maya、Unreal Engine 等）无缝对接，那么可以进一步提高效率，减少数据导入导出的困扰。\\n\\n9. **培训和文档支持**：利用提供的培训资源和详细文档，可以帮助新成员更快地熟悉软件，从而快速参与项目。\\n\\n要详细了解如何在 OrcaStudio 中实现这些功能，你应该查阅官方文档、教程或联系技术支持获取具体指导。'"
      ]
     },
     "execution_count": 16,
     "metadata": {},
     "output_type": "execute_result"
    }
   ],
   "source": [
    "agent.run(\"松应科技3D内容协作平台如何降低协作成本？\")"
   ]
  },
  {
   "cell_type": "markdown",
   "id": "49a0cbbe",
   "metadata": {},
   "source": [
    "## 多跳向量存储推理\n",
    "\n",
    "由于向量存储很容易作为代理中的工具使用，因此使用现有代理框架很容易使用依赖于向量存储的多跳问题的答案。"
   ]
  },
  {
   "cell_type": "code",
   "execution_count": 17,
   "id": "d397a233",
   "metadata": {},
   "outputs": [],
   "source": [
    "tools = [\n",
    "    Tool(\n",
    "        name=\"流浪地球 问答系统\",\n",
    "        func=state_of_union.run,\n",
    "        description=\"当您需要回答有关最新流浪地球的问题时，非常有用。输入应该是一个完整的问题，不要引用之前对话中任何模糊的代词。\",\n",
    "    ),\n",
    "    Tool(\n",
    "        name=\"松应科技 OrcaStudio 问答系统\",\n",
    "        func=ruff.run,\n",
    "        description=\"当您需要回答有关松应科技 OrcaStudio（一种3D内容协作平台）的问题时非常有用。输入应该是一个完整的问题，不要引用之前对话中任何模糊的代词。\",\n",
    "    ),\n",
    "]"
   ]
  },
  {
   "cell_type": "code",
   "execution_count": 18,
   "id": "06157240",
   "metadata": {},
   "outputs": [],
   "source": [
    "# Construct the agent. We will use the default agent type here.\n",
    "# See documentation for a full list of options.\n",
    "agent = initialize_agent(\n",
    "    tools, llm, agent=AgentType.ZERO_SHOT_REACT_DESCRIPTION, verbose=True\n",
    ")"
   ]
  },
  {
   "cell_type": "code",
   "execution_count": 22,
   "id": "b492b520",
   "metadata": {},
   "outputs": [
    {
     "name": "stdout",
     "output_type": "stream",
     "text": [
      "\n",
      "\n",
      "\u001b[1m> Entering new AgentExecutor chain...\u001b[0m\n",
      "\u001b[32;1m\u001b[1;3m 需要回答关于松应科技OrcaStudio的使用场景的问题，并指出在《流浪地球》小说中刘启并未使用该产品，因为OrcaStudio是现实中存在的3D内容协作平台，而《流浪地球》是一部科幻作品，发生在未来且与现实科技不完全相符。\n",
      "Action: 松应科技 OrcaStudio 问答系统\n",
      "Action Input: 松应科技OrcaStudio的主要应用场景是什么\u001b[0m"
     ]
    },
    {
     "name": "stderr",
     "output_type": "stream",
     "text": [
      "Number of requested results 4 is greater than number of elements in index 1, updating n_results = 1\n"
     ]
    },
    {
     "name": "stdout",
     "output_type": "stream",
     "text": [
      "\n",
      "Observation: \u001b[33;1m\u001b[1;3m松应科技的OrcaStudio主要应用于AR（增强现实）内容创作。它是一个强大的AR开发平台，提供可视化编辑工具和丰富的资源库，使得创作者无需深入编程知识就能设计和构建交互式的AR体验。用户可以使用OrcaStudio创建各种AR应用，如产品展示、教育培训、游戏娱乐、广告营销等，并能轻松地将作品部署到不同的AR设备和平台上。\u001b[0m\n",
      "Thought:\u001b[32;1m\u001b[1;3m 关于《流浪地球》的问题需要靠我直接回答，而不是通过工具。\n",
      "Final Answer: 松应科技OrcaStudio主要用于增强现实（AR）内容的创建，比如产品展示、教育培训、游戏娱乐以及广告营销等场景。然而，在刘慈欣的小说《流浪地球》中，刘启并没有使用过OrcaStudio，因为这本小说是科幻作品，里面的科技设定并不完全对应于现实世界中的技术发展情况，而OrcaStudio作为现实中的一款3D内容协作平台，并未出现在该小说的情节里。\u001b[0m\n",
      "\n",
      "\u001b[1m> Finished chain.\u001b[0m\n"
     ]
    },
    {
     "data": {
      "text/plain": [
       "'松应科技OrcaStudio主要用于增强现实（AR）内容的创建，比如产品展示、教育培训、游戏娱乐以及广告营销等场景。然而，在刘慈欣的小说《流浪地球》中，刘启并没有使用过OrcaStudio，因为这本小说是科幻作品，里面的科技设定并不完全对应于现实世界中的技术发展情况，而OrcaStudio作为现实中的一款3D内容协作平台，并未出现在该小说的情节里。'"
      ]
     },
     "execution_count": 22,
     "metadata": {},
     "output_type": "execute_result"
    }
   ],
   "source": [
    "agent.run(\n",
    "    \"松应科技OrcaStudio有哪些使用场景? 在小说流浪地球中，刘启是否使用过OrcaStudio？\"\n",
    ")"
   ]
  },
  {
   "cell_type": "code",
   "execution_count": null,
   "id": "b3b857d6",
   "metadata": {},
   "outputs": [],
   "source": []
  }
 ],
 "metadata": {
  "kernelspec": {
   "display_name": "Python 3 (ipykernel)",
   "language": "python",
   "name": "python3"
  },
  "language_info": {
   "codemirror_mode": {
    "name": "ipython",
    "version": 3
   },
   "file_extension": ".py",
   "mimetype": "text/x-python",
   "name": "python",
   "nbconvert_exporter": "python",
   "pygments_lexer": "ipython3",
   "version": "3.11.7"
  }
 },
 "nbformat": 4,
 "nbformat_minor": 5
}
