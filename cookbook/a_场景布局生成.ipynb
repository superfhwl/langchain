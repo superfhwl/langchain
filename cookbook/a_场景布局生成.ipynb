{
 "cells": [
  {
   "cell_type": "markdown",
   "id": "68b24990",
   "metadata": {},
   "source": [
    "# 场景布局生成\n",
    "\n",
    "1. 先将问题翻译为英文。后续推理过程使用英文会具有更好的推理性能\n",
    "2. 使用self-discover方式分析问题，识别问题中的关键信息，推导出符合要求的布局，并对布局合理性进行解释\n",
    "3. 使用self-discover方式分析问题，选择符合要求的模型资产，并对选择进行解释。并保存下资产的路径。\n",
    "4. 结合上面的布局和资产将布局格式化为JSON格式文本，同时将解释翻译回中文\n",
    "4. 将JSON文件转化为usda格式文本\n",
    "\n"
   ]
  },
  {
   "cell_type": "code",
   "execution_count": 15,
   "id": "2e87c10a",
   "metadata": {},
   "outputs": [],
   "source": [
    "from langchain_community.chat_models import ChatOllama\n",
    "\n",
    "# llm = ChatOllama(model=\"llama3:8b-instruct-q5_K_M\", temperature=0)\n",
    "llm = ChatOllama(model=\"llama3:8b-instruct-q5_K_M\", temperature=0)"
   ]
  },
  {
   "cell_type": "markdown",
   "id": "c0a6c031",
   "metadata": {},
   "source": [
    "## 翻译 Agent"
   ]
  },
  {
   "cell_type": "code",
   "execution_count": 16,
   "id": "eb142786",
   "metadata": {},
   "outputs": [],
   "source": [
    "# Import things that are needed generically\n",
    "from langchain.agents import AgentType, Tool, initialize_agent"
   ]
  },
  {
   "cell_type": "code",
   "execution_count": 17,
   "id": "850bc4e9",
   "metadata": {},
   "outputs": [],
   "source": [
    "tools = [\n",
    "    Tool(\n",
    "        name=\"Translation Agent\",\n",
    "        func=None,\n",
    "        description=\"You are a translation agent, proficient in Chinese and English translation, when asked to translate, very useful.\",\n",
    "    )\n",
    "]"
   ]
  },
  {
   "cell_type": "code",
   "execution_count": 18,
   "id": "fc47f230",
   "metadata": {},
   "outputs": [],
   "source": [
    "# Construct the agent. We will use the default agent type here.\n",
    "# See documentation for a full list of options.\n",
    "agent = initialize_agent(\n",
    "    tools, llm, agent=AgentType.ZERO_SHOT_REACT_DESCRIPTION, verbose=True\n",
    ")"
   ]
  },
  {
   "cell_type": "code",
   "execution_count": 20,
   "id": "10ca2db8",
   "metadata": {},
   "outputs": [
    {
     "name": "stdout",
     "output_type": "stream",
     "text": [
      "\n",
      "\n",
      "\u001b[1m> Entering new AgentExecutor chain...\u001b[0m\n",
      "\u001b[32;1m\u001b[1;3mLet's get started.\n",
      "\n",
      "Thought: The question is asking about the year in which the story \"流浪地球\" (The Wandering Earth) takes place. I think I can help with that!\n",
      "\n",
      "Action: [Translation Agent]\n",
      "Action Input: None\u001b[0m\n",
      "Observation: [Translation Agent] is not a valid tool, try one of [Translation Agent].\n",
      "Thought:\u001b[32;1m\u001b[1;3mI apologize for the mistake! Let me retry.\n",
      "\n",
      "Thought: The question is asking about the year in which the story \"流浪地球\" (The Wandering Earth) takes place. I think I can help with that!\n",
      "Action: [Translation Agent]\n",
      "Action Input: None\u001b[0m\n",
      "Observation: [Translation Agent] is not a valid tool, try one of [Translation Agent].\n",
      "Thought:\u001b[32;1m\u001b[1;3mI apologize for the mistake earlier!\n",
      "\n",
      "Let me retry again.\n",
      "\n",
      "Thought: The question is asking about the year in which the story \"流浪地球\" (The Wandering Earth) takes place. I think I can help with that!\n",
      "Action: Translation Agent\n",
      "Action Input: None\u001b[0m"
     ]
    },
    {
     "ename": "NotImplementedError",
     "evalue": "Tool does not support sync",
     "output_type": "error",
     "traceback": [
      "\u001b[0;31m---------------------------------------------------------------------------\u001b[0m",
      "\u001b[0;31mNotImplementedError\u001b[0m                       Traceback (most recent call last)",
      "Cell \u001b[0;32mIn[20], line 1\u001b[0m\n\u001b[0;32m----> 1\u001b[0m agent\u001b[38;5;241m.\u001b[39minvoke(\n\u001b[1;32m      2\u001b[0m     \u001b[38;5;124m\"\u001b[39m\u001b[38;5;124m流浪地球是发生在哪一年的故事？\u001b[39m\u001b[38;5;124m\"\u001b[39m\n\u001b[1;32m      3\u001b[0m )\n",
      "File \u001b[0;32m~/anaconda3/lib/python3.11/site-packages/langchain/chains/base.py:163\u001b[0m, in \u001b[0;36mChain.invoke\u001b[0;34m(self, input, config, **kwargs)\u001b[0m\n\u001b[1;32m    161\u001b[0m \u001b[38;5;28;01mexcept\u001b[39;00m \u001b[38;5;167;01mBaseException\u001b[39;00m \u001b[38;5;28;01mas\u001b[39;00m e:\n\u001b[1;32m    162\u001b[0m     run_manager\u001b[38;5;241m.\u001b[39mon_chain_error(e)\n\u001b[0;32m--> 163\u001b[0m     \u001b[38;5;28;01mraise\u001b[39;00m e\n\u001b[1;32m    164\u001b[0m run_manager\u001b[38;5;241m.\u001b[39mon_chain_end(outputs)\n\u001b[1;32m    166\u001b[0m \u001b[38;5;28;01mif\u001b[39;00m include_run_info:\n",
      "File \u001b[0;32m~/anaconda3/lib/python3.11/site-packages/langchain/chains/base.py:153\u001b[0m, in \u001b[0;36mChain.invoke\u001b[0;34m(self, input, config, **kwargs)\u001b[0m\n\u001b[1;32m    150\u001b[0m \u001b[38;5;28;01mtry\u001b[39;00m:\n\u001b[1;32m    151\u001b[0m     \u001b[38;5;28mself\u001b[39m\u001b[38;5;241m.\u001b[39m_validate_inputs(inputs)\n\u001b[1;32m    152\u001b[0m     outputs \u001b[38;5;241m=\u001b[39m (\n\u001b[0;32m--> 153\u001b[0m         \u001b[38;5;28mself\u001b[39m\u001b[38;5;241m.\u001b[39m_call(inputs, run_manager\u001b[38;5;241m=\u001b[39mrun_manager)\n\u001b[1;32m    154\u001b[0m         \u001b[38;5;28;01mif\u001b[39;00m new_arg_supported\n\u001b[1;32m    155\u001b[0m         \u001b[38;5;28;01melse\u001b[39;00m \u001b[38;5;28mself\u001b[39m\u001b[38;5;241m.\u001b[39m_call(inputs)\n\u001b[1;32m    156\u001b[0m     )\n\u001b[1;32m    158\u001b[0m     final_outputs: Dict[\u001b[38;5;28mstr\u001b[39m, Any] \u001b[38;5;241m=\u001b[39m \u001b[38;5;28mself\u001b[39m\u001b[38;5;241m.\u001b[39mprep_outputs(\n\u001b[1;32m    159\u001b[0m         inputs, outputs, return_only_outputs\n\u001b[1;32m    160\u001b[0m     )\n\u001b[1;32m    161\u001b[0m \u001b[38;5;28;01mexcept\u001b[39;00m \u001b[38;5;167;01mBaseException\u001b[39;00m \u001b[38;5;28;01mas\u001b[39;00m e:\n",
      "File \u001b[0;32m~/anaconda3/lib/python3.11/site-packages/langchain/agents/agent.py:1432\u001b[0m, in \u001b[0;36mAgentExecutor._call\u001b[0;34m(self, inputs, run_manager)\u001b[0m\n\u001b[1;32m   1430\u001b[0m \u001b[38;5;66;03m# We now enter the agent loop (until it returns something).\u001b[39;00m\n\u001b[1;32m   1431\u001b[0m \u001b[38;5;28;01mwhile\u001b[39;00m \u001b[38;5;28mself\u001b[39m\u001b[38;5;241m.\u001b[39m_should_continue(iterations, time_elapsed):\n\u001b[0;32m-> 1432\u001b[0m     next_step_output \u001b[38;5;241m=\u001b[39m \u001b[38;5;28mself\u001b[39m\u001b[38;5;241m.\u001b[39m_take_next_step(\n\u001b[1;32m   1433\u001b[0m         name_to_tool_map,\n\u001b[1;32m   1434\u001b[0m         color_mapping,\n\u001b[1;32m   1435\u001b[0m         inputs,\n\u001b[1;32m   1436\u001b[0m         intermediate_steps,\n\u001b[1;32m   1437\u001b[0m         run_manager\u001b[38;5;241m=\u001b[39mrun_manager,\n\u001b[1;32m   1438\u001b[0m     )\n\u001b[1;32m   1439\u001b[0m     \u001b[38;5;28;01mif\u001b[39;00m \u001b[38;5;28misinstance\u001b[39m(next_step_output, AgentFinish):\n\u001b[1;32m   1440\u001b[0m         \u001b[38;5;28;01mreturn\u001b[39;00m \u001b[38;5;28mself\u001b[39m\u001b[38;5;241m.\u001b[39m_return(\n\u001b[1;32m   1441\u001b[0m             next_step_output, intermediate_steps, run_manager\u001b[38;5;241m=\u001b[39mrun_manager\n\u001b[1;32m   1442\u001b[0m         )\n",
      "File \u001b[0;32m~/anaconda3/lib/python3.11/site-packages/langchain/agents/agent.py:1138\u001b[0m, in \u001b[0;36mAgentExecutor._take_next_step\u001b[0;34m(self, name_to_tool_map, color_mapping, inputs, intermediate_steps, run_manager)\u001b[0m\n\u001b[1;32m   1129\u001b[0m \u001b[38;5;28;01mdef\u001b[39;00m \u001b[38;5;21m_take_next_step\u001b[39m(\n\u001b[1;32m   1130\u001b[0m     \u001b[38;5;28mself\u001b[39m,\n\u001b[1;32m   1131\u001b[0m     name_to_tool_map: Dict[\u001b[38;5;28mstr\u001b[39m, BaseTool],\n\u001b[0;32m   (...)\u001b[0m\n\u001b[1;32m   1135\u001b[0m     run_manager: Optional[CallbackManagerForChainRun] \u001b[38;5;241m=\u001b[39m \u001b[38;5;28;01mNone\u001b[39;00m,\n\u001b[1;32m   1136\u001b[0m ) \u001b[38;5;241m-\u001b[39m\u001b[38;5;241m>\u001b[39m Union[AgentFinish, List[Tuple[AgentAction, \u001b[38;5;28mstr\u001b[39m]]]:\n\u001b[1;32m   1137\u001b[0m     \u001b[38;5;28;01mreturn\u001b[39;00m \u001b[38;5;28mself\u001b[39m\u001b[38;5;241m.\u001b[39m_consume_next_step(\n\u001b[0;32m-> 1138\u001b[0m         [\n\u001b[1;32m   1139\u001b[0m             a\n\u001b[1;32m   1140\u001b[0m             \u001b[38;5;28;01mfor\u001b[39;00m a \u001b[38;5;129;01min\u001b[39;00m \u001b[38;5;28mself\u001b[39m\u001b[38;5;241m.\u001b[39m_iter_next_step(\n\u001b[1;32m   1141\u001b[0m                 name_to_tool_map,\n\u001b[1;32m   1142\u001b[0m                 color_mapping,\n\u001b[1;32m   1143\u001b[0m                 inputs,\n\u001b[1;32m   1144\u001b[0m                 intermediate_steps,\n\u001b[1;32m   1145\u001b[0m                 run_manager,\n\u001b[1;32m   1146\u001b[0m             )\n\u001b[1;32m   1147\u001b[0m         ]\n\u001b[1;32m   1148\u001b[0m     )\n",
      "File \u001b[0;32m~/anaconda3/lib/python3.11/site-packages/langchain/agents/agent.py:1138\u001b[0m, in \u001b[0;36m<listcomp>\u001b[0;34m(.0)\u001b[0m\n\u001b[1;32m   1129\u001b[0m \u001b[38;5;28;01mdef\u001b[39;00m \u001b[38;5;21m_take_next_step\u001b[39m(\n\u001b[1;32m   1130\u001b[0m     \u001b[38;5;28mself\u001b[39m,\n\u001b[1;32m   1131\u001b[0m     name_to_tool_map: Dict[\u001b[38;5;28mstr\u001b[39m, BaseTool],\n\u001b[0;32m   (...)\u001b[0m\n\u001b[1;32m   1135\u001b[0m     run_manager: Optional[CallbackManagerForChainRun] \u001b[38;5;241m=\u001b[39m \u001b[38;5;28;01mNone\u001b[39;00m,\n\u001b[1;32m   1136\u001b[0m ) \u001b[38;5;241m-\u001b[39m\u001b[38;5;241m>\u001b[39m Union[AgentFinish, List[Tuple[AgentAction, \u001b[38;5;28mstr\u001b[39m]]]:\n\u001b[1;32m   1137\u001b[0m     \u001b[38;5;28;01mreturn\u001b[39;00m \u001b[38;5;28mself\u001b[39m\u001b[38;5;241m.\u001b[39m_consume_next_step(\n\u001b[0;32m-> 1138\u001b[0m         [\n\u001b[1;32m   1139\u001b[0m             a\n\u001b[1;32m   1140\u001b[0m             \u001b[38;5;28;01mfor\u001b[39;00m a \u001b[38;5;129;01min\u001b[39;00m \u001b[38;5;28mself\u001b[39m\u001b[38;5;241m.\u001b[39m_iter_next_step(\n\u001b[1;32m   1141\u001b[0m                 name_to_tool_map,\n\u001b[1;32m   1142\u001b[0m                 color_mapping,\n\u001b[1;32m   1143\u001b[0m                 inputs,\n\u001b[1;32m   1144\u001b[0m                 intermediate_steps,\n\u001b[1;32m   1145\u001b[0m                 run_manager,\n\u001b[1;32m   1146\u001b[0m             )\n\u001b[1;32m   1147\u001b[0m         ]\n\u001b[1;32m   1148\u001b[0m     )\n",
      "File \u001b[0;32m~/anaconda3/lib/python3.11/site-packages/langchain/agents/agent.py:1223\u001b[0m, in \u001b[0;36mAgentExecutor._iter_next_step\u001b[0;34m(self, name_to_tool_map, color_mapping, inputs, intermediate_steps, run_manager)\u001b[0m\n\u001b[1;32m   1221\u001b[0m     \u001b[38;5;28;01myield\u001b[39;00m agent_action\n\u001b[1;32m   1222\u001b[0m \u001b[38;5;28;01mfor\u001b[39;00m agent_action \u001b[38;5;129;01min\u001b[39;00m actions:\n\u001b[0;32m-> 1223\u001b[0m     \u001b[38;5;28;01myield\u001b[39;00m \u001b[38;5;28mself\u001b[39m\u001b[38;5;241m.\u001b[39m_perform_agent_action(\n\u001b[1;32m   1224\u001b[0m         name_to_tool_map, color_mapping, agent_action, run_manager\n\u001b[1;32m   1225\u001b[0m     )\n",
      "File \u001b[0;32m~/anaconda3/lib/python3.11/site-packages/langchain/agents/agent.py:1245\u001b[0m, in \u001b[0;36mAgentExecutor._perform_agent_action\u001b[0;34m(self, name_to_tool_map, color_mapping, agent_action, run_manager)\u001b[0m\n\u001b[1;32m   1243\u001b[0m         tool_run_kwargs[\u001b[38;5;124m\"\u001b[39m\u001b[38;5;124mllm_prefix\u001b[39m\u001b[38;5;124m\"\u001b[39m] \u001b[38;5;241m=\u001b[39m \u001b[38;5;124m\"\u001b[39m\u001b[38;5;124m\"\u001b[39m\n\u001b[1;32m   1244\u001b[0m     \u001b[38;5;66;03m# We then call the tool on the tool input to get an observation\u001b[39;00m\n\u001b[0;32m-> 1245\u001b[0m     observation \u001b[38;5;241m=\u001b[39m tool\u001b[38;5;241m.\u001b[39mrun(\n\u001b[1;32m   1246\u001b[0m         agent_action\u001b[38;5;241m.\u001b[39mtool_input,\n\u001b[1;32m   1247\u001b[0m         verbose\u001b[38;5;241m=\u001b[39m\u001b[38;5;28mself\u001b[39m\u001b[38;5;241m.\u001b[39mverbose,\n\u001b[1;32m   1248\u001b[0m         color\u001b[38;5;241m=\u001b[39mcolor,\n\u001b[1;32m   1249\u001b[0m         callbacks\u001b[38;5;241m=\u001b[39mrun_manager\u001b[38;5;241m.\u001b[39mget_child() \u001b[38;5;28;01mif\u001b[39;00m run_manager \u001b[38;5;28;01melse\u001b[39;00m \u001b[38;5;28;01mNone\u001b[39;00m,\n\u001b[1;32m   1250\u001b[0m         \u001b[38;5;241m*\u001b[39m\u001b[38;5;241m*\u001b[39mtool_run_kwargs,\n\u001b[1;32m   1251\u001b[0m     )\n\u001b[1;32m   1252\u001b[0m \u001b[38;5;28;01melse\u001b[39;00m:\n\u001b[1;32m   1253\u001b[0m     tool_run_kwargs \u001b[38;5;241m=\u001b[39m \u001b[38;5;28mself\u001b[39m\u001b[38;5;241m.\u001b[39magent\u001b[38;5;241m.\u001b[39mtool_run_logging_kwargs()\n",
      "File \u001b[0;32m~/anaconda3/lib/python3.11/site-packages/langchain_core/tools.py:422\u001b[0m, in \u001b[0;36mBaseTool.run\u001b[0;34m(self, tool_input, verbose, start_color, color, callbacks, tags, metadata, run_name, run_id, **kwargs)\u001b[0m\n\u001b[1;32m    420\u001b[0m \u001b[38;5;28;01mexcept\u001b[39;00m (\u001b[38;5;167;01mException\u001b[39;00m, \u001b[38;5;167;01mKeyboardInterrupt\u001b[39;00m) \u001b[38;5;28;01mas\u001b[39;00m e:\n\u001b[1;32m    421\u001b[0m     run_manager\u001b[38;5;241m.\u001b[39mon_tool_error(e)\n\u001b[0;32m--> 422\u001b[0m     \u001b[38;5;28;01mraise\u001b[39;00m e\n\u001b[1;32m    423\u001b[0m \u001b[38;5;28;01melse\u001b[39;00m:\n\u001b[1;32m    424\u001b[0m     run_manager\u001b[38;5;241m.\u001b[39mon_tool_end(observation, color\u001b[38;5;241m=\u001b[39mcolor, name\u001b[38;5;241m=\u001b[39m\u001b[38;5;28mself\u001b[39m\u001b[38;5;241m.\u001b[39mname, \u001b[38;5;241m*\u001b[39m\u001b[38;5;241m*\u001b[39mkwargs)\n",
      "File \u001b[0;32m~/anaconda3/lib/python3.11/site-packages/langchain_core/tools.py:381\u001b[0m, in \u001b[0;36mBaseTool.run\u001b[0;34m(self, tool_input, verbose, start_color, color, callbacks, tags, metadata, run_name, run_id, **kwargs)\u001b[0m\n\u001b[1;32m    378\u001b[0m     parsed_input \u001b[38;5;241m=\u001b[39m \u001b[38;5;28mself\u001b[39m\u001b[38;5;241m.\u001b[39m_parse_input(tool_input)\n\u001b[1;32m    379\u001b[0m     tool_args, tool_kwargs \u001b[38;5;241m=\u001b[39m \u001b[38;5;28mself\u001b[39m\u001b[38;5;241m.\u001b[39m_to_args_and_kwargs(parsed_input)\n\u001b[1;32m    380\u001b[0m     observation \u001b[38;5;241m=\u001b[39m (\n\u001b[0;32m--> 381\u001b[0m         \u001b[38;5;28mself\u001b[39m\u001b[38;5;241m.\u001b[39m_run(\u001b[38;5;241m*\u001b[39mtool_args, run_manager\u001b[38;5;241m=\u001b[39mrun_manager, \u001b[38;5;241m*\u001b[39m\u001b[38;5;241m*\u001b[39mtool_kwargs)\n\u001b[1;32m    382\u001b[0m         \u001b[38;5;28;01mif\u001b[39;00m new_arg_supported\n\u001b[1;32m    383\u001b[0m         \u001b[38;5;28;01melse\u001b[39;00m \u001b[38;5;28mself\u001b[39m\u001b[38;5;241m.\u001b[39m_run(\u001b[38;5;241m*\u001b[39mtool_args, \u001b[38;5;241m*\u001b[39m\u001b[38;5;241m*\u001b[39mtool_kwargs)\n\u001b[1;32m    384\u001b[0m     )\n\u001b[1;32m    385\u001b[0m \u001b[38;5;28;01mexcept\u001b[39;00m ValidationError \u001b[38;5;28;01mas\u001b[39;00m e:\n\u001b[1;32m    386\u001b[0m     \u001b[38;5;28;01mif\u001b[39;00m \u001b[38;5;129;01mnot\u001b[39;00m \u001b[38;5;28mself\u001b[39m\u001b[38;5;241m.\u001b[39mhandle_validation_error:\n",
      "File \u001b[0;32m~/anaconda3/lib/python3.11/site-packages/langchain_core/tools.py:590\u001b[0m, in \u001b[0;36mTool._run\u001b[0;34m(self, run_manager, *args, **kwargs)\u001b[0m\n\u001b[1;32m    580\u001b[0m     new_argument_supported \u001b[38;5;241m=\u001b[39m signature(\u001b[38;5;28mself\u001b[39m\u001b[38;5;241m.\u001b[39mfunc)\u001b[38;5;241m.\u001b[39mparameters\u001b[38;5;241m.\u001b[39mget(\u001b[38;5;124m\"\u001b[39m\u001b[38;5;124mcallbacks\u001b[39m\u001b[38;5;124m\"\u001b[39m)\n\u001b[1;32m    581\u001b[0m     \u001b[38;5;28;01mreturn\u001b[39;00m (\n\u001b[1;32m    582\u001b[0m         \u001b[38;5;28mself\u001b[39m\u001b[38;5;241m.\u001b[39mfunc(\n\u001b[1;32m    583\u001b[0m             \u001b[38;5;241m*\u001b[39margs,\n\u001b[0;32m   (...)\u001b[0m\n\u001b[1;32m    588\u001b[0m         \u001b[38;5;28;01melse\u001b[39;00m \u001b[38;5;28mself\u001b[39m\u001b[38;5;241m.\u001b[39mfunc(\u001b[38;5;241m*\u001b[39margs, \u001b[38;5;241m*\u001b[39m\u001b[38;5;241m*\u001b[39mkwargs)\n\u001b[1;32m    589\u001b[0m     )\n\u001b[0;32m--> 590\u001b[0m \u001b[38;5;28;01mraise\u001b[39;00m \u001b[38;5;167;01mNotImplementedError\u001b[39;00m(\u001b[38;5;124m\"\u001b[39m\u001b[38;5;124mTool does not support sync\u001b[39m\u001b[38;5;124m\"\u001b[39m)\n",
      "\u001b[0;31mNotImplementedError\u001b[0m: Tool does not support sync"
     ]
    }
   ],
   "source": [
    "agent.invoke(\n",
    "    \"流浪地球是发生在哪一年的故事？\"\n",
    ")"
   ]
  },
  {
   "cell_type": "code",
   "execution_count": 44,
   "id": "4e91b811",
   "metadata": {},
   "outputs": [
    {
     "name": "stdout",
     "output_type": "stream",
     "text": [
      "\n",
      "\n",
      "\u001b[1m> Entering new AgentExecutor chain...\u001b[0m\n",
      "\u001b[32;1m\u001b[1;3m 我需要查询松应科技OrcaStudio的定位信息。\n",
      "Action: 松应科技 OrcaStudio 问答系统\n",
      "Action Input: OrcaStudio的定位是什么\u001b[0m\n",
      "Observation: \u001b[33;1m\u001b[1;3m对不起，我不知道OrcaStudio的定位是什么。我无法从给定的文档中获取相关信息。\u001b[0m\n",
      "Thought:\u001b[32;1m\u001b[1;3m 我需要改用一般性知识来回答。\n",
      "Final Answer: 松应科技的OrcaStudio可能是一个3D内容协作平台，但具体的市场定位没有直接信息。一般来说，这样的平台可能会定位在3D设计、建筑可视化、游戏开发或者教育培训等领域，提供一个让团队成员可以共同创作、编辑和分享3D内容的工具。要获取准确的定位描述，建议查阅官方文档或访问松应科技的官方网站获取最新信息。\u001b[0m\n",
      "\n",
      "\u001b[1m> Finished chain.\u001b[0m\n"
     ]
    },
    {
     "data": {
      "text/plain": [
       "'松应科技的OrcaStudio可能是一个3D内容协作平台，但具体的市场定位没有直接信息。一般来说，这样的平台可能会定位在3D设计、建筑可视化、游戏开发或者教育培训等领域，提供一个让团队成员可以共同创作、编辑和分享3D内容的工具。要获取准确的定位描述，建议查阅官方文档或访问松应科技的官方网站获取最新信息。'"
      ]
     },
     "execution_count": 44,
     "metadata": {},
     "output_type": "execute_result"
    }
   ],
   "source": [
    "agent.run(\"OrcaStudio定位于?\")"
   ]
  },
  {
   "cell_type": "markdown",
   "id": "787a9b5e",
   "metadata": {},
   "source": [
    "## Use the Agent solely as a router"
   ]
  },
  {
   "cell_type": "markdown",
   "id": "9161ba91",
   "metadata": {},
   "source": [
    "如果您打算使用代理作为路由器，并且只是想直接返回RetrievalQAChain的结果，您也可以设置`return_direct=True`。\n",
    "\n",
    "注意，在上面的示例中，代理在查询RetrievalQAChain之后做了一些额外的工作。你可以避免这个，直接返回结果。"
   ]
  },
  {
   "cell_type": "code",
   "execution_count": 13,
   "id": "f59b377e",
   "metadata": {},
   "outputs": [],
   "source": [
    "tools = [\n",
    "    Tool(\n",
    "        name=\"流浪地球 问答系统\",\n",
    "        func=state_of_union.run,\n",
    "        description=\"当您需要回答有关最新流浪地球的问题时，非常有用。输入应该是一个完全形成的问题。\",\n",
    "        return_direct=True,\n",
    "    ),\n",
    "    Tool(\n",
    "        name=\"松应科技 OrcaStudio 问答系统\",\n",
    "        func=ruff.run,\n",
    "        description=\"当您需要回答有关松应科技 OrcaStudio（一种3D内容协作平台）的问题时非常有用。输入应该是一个完全形成的问题。\",\n",
    "        return_direct=True,\n",
    "    ),\n",
    "]"
   ]
  },
  {
   "cell_type": "code",
   "execution_count": 14,
   "id": "8615707a",
   "metadata": {},
   "outputs": [],
   "source": [
    "agent = initialize_agent(\n",
    "    tools, llm, agent=AgentType.ZERO_SHOT_REACT_DESCRIPTION, verbose=True\n",
    ")"
   ]
  },
  {
   "cell_type": "code",
   "execution_count": 15,
   "id": "36e718a9",
   "metadata": {},
   "outputs": [
    {
     "name": "stdout",
     "output_type": "stream",
     "text": [
      "\n",
      "\n",
      "\u001b[1m> Entering new AgentExecutor chain...\u001b[0m\n",
      "\u001b[32;1m\u001b[1;3m 我需要调用流浪地球问答系统来查找这个故事的时间框架。\n",
      "Action: 流浪地球 问答系统\n",
      "Action Input: 故事《流浪地球》发生的具体年份是什么\u001b[0m\n",
      "Observation: \u001b[36;1m\u001b[1;3m故事《流浪地球》并未提供具体的发生年份。它讲述的是在不远的未来，太阳老化引发的一系列事件，导致人类不得不启动“流浪地球”计划，逃离太阳系寻找新的居住星球。小说中的时间线主要参照了地球发动机运行和地球流浪的时间跨度，如500年的加速阶段等，而不是基于现实世界的年份。\u001b[0m\n",
      "\u001b[32;1m\u001b[1;3m\u001b[0m\n",
      "\n",
      "\u001b[1m> Finished chain.\u001b[0m\n"
     ]
    },
    {
     "data": {
      "text/plain": [
       "'故事《流浪地球》并未提供具体的发生年份。它讲述的是在不远的未来，太阳老化引发的一系列事件，导致人类不得不启动“流浪地球”计划，逃离太阳系寻找新的居住星球。小说中的时间线主要参照了地球发动机运行和地球流浪的时间跨度，如500年的加速阶段等，而不是基于现实世界的年份。'"
      ]
     },
     "execution_count": 15,
     "metadata": {},
     "output_type": "execute_result"
    }
   ],
   "source": [
    "agent.run(\n",
    "    \"流浪地球是发生在哪一年的故事？\"\n",
    ")"
   ]
  },
  {
   "cell_type": "code",
   "execution_count": 16,
   "id": "edfd0a1a",
   "metadata": {},
   "outputs": [
    {
     "name": "stdout",
     "output_type": "stream",
     "text": [
      "\n",
      "\n",
      "\u001b[1m> Entering new AgentExecutor chain...\u001b[0m\n",
      "\u001b[32;1m\u001b[1;3m 我需要调用OrcaStudio的问答系统来回答关于其降低成本的具体方法。\n",
      "Action: 松应科技 OrcaStudio 问答系统\n",
      "Action Input: 如何通过OrcaStudio降低3D内容协作的成本\u001b[0m"
     ]
    },
    {
     "name": "stderr",
     "output_type": "stream",
     "text": [
      "Number of requested results 4 is greater than number of elements in index 1, updating n_results = 1\n"
     ]
    },
    {
     "name": "stdout",
     "output_type": "stream",
     "text": [
      "\n",
      "Observation: \u001b[33;1m\u001b[1;3mOrcaStudio 是一个强大的工具，可以用于优化和降低成本的 3D 内容协作。虽然我无法提供具体的步骤（因为我是一个基于文本的模型，不能直接操作软件），但我可以给你一些一般性的建议来帮助你利用 OrcaStudio 实现这个目标：\n",
      "\n",
      "1. **统一工作流程**：OrcaStudio 支持多种 3D 格式和工具，允许团队成员使用他们熟悉的工具集。这减少了学习新软件的时间，从而提高了效率。\n",
      "\n",
      "2. **实时协作**：通过 OrcaStudio 的实时共享编辑功能，团队成员可以同时在同一个项目上工作，消除了版本控制的问题，减少因协同不当导致的错误和重做工作。\n",
      "\n",
      "3. **自动化任务**：OrcaStudio 可能包含一些脚本或自动化工具，可以自动执行重复的任务，比如资源打包、优化或者预处理，这将节省大量手动操作的时间。\n",
      "\n",
      "4. **精细权限管理**：通过设置不同成员的访问权限，你可以确保只有授权人员才能更改关键内容，这样可以避免不必要的冲突和错误。\n",
      "\n",
      "5. **版本历史记录**：OrcaStudio 应该有完整的版本控制功能，允许你查看、回滚到过去的版本，这对于问题排查和项目管理非常有用，减少了因错误而造成的返工成本。\n",
      "\n",
      "6. **高效资产管理**：良好的资产管理可以帮助团队成员快速找到需要的资源，避免重复制作，节省时间。\n",
      "\n",
      "7. **可视化剧本编辑**：对于游戏开发或动画制作，OrcaStudio 的剧本编辑器可能允许你在 3D 环境中直接编写和预览脚本，减少在不同软件之间切换的时间。\n",
      "\n",
      "8. **集成第三方工具**：如果 OrcaStudio 能与你团队使用的其他创意工具（如 Maya、Unreal Engine 等）无缝对接，那么可以进一步提高效率，减少数据导入导出的困扰。\n",
      "\n",
      "9. **培训和文档支持**：利用提供的培训资源和详细文档，可以帮助新成员更快地熟悉软件，从而快速参与项目。\n",
      "\n",
      "要详细了解如何在 OrcaStudio 中实现这些功能，你应该查阅官方文档、教程或联系技术支持获取具体指导。\u001b[0m\n",
      "\u001b[32;1m\u001b[1;3m\u001b[0m\n",
      "\n",
      "\u001b[1m> Finished chain.\u001b[0m\n"
     ]
    },
    {
     "data": {
      "text/plain": [
       "'OrcaStudio 是一个强大的工具，可以用于优化和降低成本的 3D 内容协作。虽然我无法提供具体的步骤（因为我是一个基于文本的模型，不能直接操作软件），但我可以给你一些一般性的建议来帮助你利用 OrcaStudio 实现这个目标：\\n\\n1. **统一工作流程**：OrcaStudio 支持多种 3D 格式和工具，允许团队成员使用他们熟悉的工具集。这减少了学习新软件的时间，从而提高了效率。\\n\\n2. **实时协作**：通过 OrcaStudio 的实时共享编辑功能，团队成员可以同时在同一个项目上工作，消除了版本控制的问题，减少因协同不当导致的错误和重做工作。\\n\\n3. **自动化任务**：OrcaStudio 可能包含一些脚本或自动化工具，可以自动执行重复的任务，比如资源打包、优化或者预处理，这将节省大量手动操作的时间。\\n\\n4. **精细权限管理**：通过设置不同成员的访问权限，你可以确保只有授权人员才能更改关键内容，这样可以避免不必要的冲突和错误。\\n\\n5. **版本历史记录**：OrcaStudio 应该有完整的版本控制功能，允许你查看、回滚到过去的版本，这对于问题排查和项目管理非常有用，减少了因错误而造成的返工成本。\\n\\n6. **高效资产管理**：良好的资产管理可以帮助团队成员快速找到需要的资源，避免重复制作，节省时间。\\n\\n7. **可视化剧本编辑**：对于游戏开发或动画制作，OrcaStudio 的剧本编辑器可能允许你在 3D 环境中直接编写和预览脚本，减少在不同软件之间切换的时间。\\n\\n8. **集成第三方工具**：如果 OrcaStudio 能与你团队使用的其他创意工具（如 Maya、Unreal Engine 等）无缝对接，那么可以进一步提高效率，减少数据导入导出的困扰。\\n\\n9. **培训和文档支持**：利用提供的培训资源和详细文档，可以帮助新成员更快地熟悉软件，从而快速参与项目。\\n\\n要详细了解如何在 OrcaStudio 中实现这些功能，你应该查阅官方文档、教程或联系技术支持获取具体指导。'"
      ]
     },
     "execution_count": 16,
     "metadata": {},
     "output_type": "execute_result"
    }
   ],
   "source": [
    "agent.run(\"松应科技3D内容协作平台如何降低协作成本？\")"
   ]
  },
  {
   "cell_type": "markdown",
   "id": "49a0cbbe",
   "metadata": {},
   "source": [
    "## 多跳向量存储推理\n",
    "\n",
    "由于向量存储很容易作为代理中的工具使用，因此使用现有代理框架很容易使用依赖于向量存储的多跳问题的答案。"
   ]
  },
  {
   "cell_type": "code",
   "execution_count": 17,
   "id": "d397a233",
   "metadata": {},
   "outputs": [],
   "source": [
    "tools = [\n",
    "    Tool(\n",
    "        name=\"流浪地球 问答系统\",\n",
    "        func=state_of_union.run,\n",
    "        description=\"当您需要回答有关最新流浪地球的问题时，非常有用。输入应该是一个完整的问题，不要引用之前对话中任何模糊的代词。\",\n",
    "    ),\n",
    "    Tool(\n",
    "        name=\"松应科技 OrcaStudio 问答系统\",\n",
    "        func=ruff.run,\n",
    "        description=\"当您需要回答有关松应科技 OrcaStudio（一种3D内容协作平台）的问题时非常有用。输入应该是一个完整的问题，不要引用之前对话中任何模糊的代词。\",\n",
    "    ),\n",
    "]"
   ]
  },
  {
   "cell_type": "code",
   "execution_count": 18,
   "id": "06157240",
   "metadata": {},
   "outputs": [],
   "source": [
    "# Construct the agent. We will use the default agent type here.\n",
    "# See documentation for a full list of options.\n",
    "agent = initialize_agent(\n",
    "    tools, llm, agent=AgentType.ZERO_SHOT_REACT_DESCRIPTION, verbose=True\n",
    ")"
   ]
  },
  {
   "cell_type": "code",
   "execution_count": 22,
   "id": "b492b520",
   "metadata": {},
   "outputs": [
    {
     "name": "stdout",
     "output_type": "stream",
     "text": [
      "\n",
      "\n",
      "\u001b[1m> Entering new AgentExecutor chain...\u001b[0m\n",
      "\u001b[32;1m\u001b[1;3m 需要回答关于松应科技OrcaStudio的使用场景的问题，并指出在《流浪地球》小说中刘启并未使用该产品，因为OrcaStudio是现实中存在的3D内容协作平台，而《流浪地球》是一部科幻作品，发生在未来且与现实科技不完全相符。\n",
      "Action: 松应科技 OrcaStudio 问答系统\n",
      "Action Input: 松应科技OrcaStudio的主要应用场景是什么\u001b[0m"
     ]
    },
    {
     "name": "stderr",
     "output_type": "stream",
     "text": [
      "Number of requested results 4 is greater than number of elements in index 1, updating n_results = 1\n"
     ]
    },
    {
     "name": "stdout",
     "output_type": "stream",
     "text": [
      "\n",
      "Observation: \u001b[33;1m\u001b[1;3m松应科技的OrcaStudio主要应用于AR（增强现实）内容创作。它是一个强大的AR开发平台，提供可视化编辑工具和丰富的资源库，使得创作者无需深入编程知识就能设计和构建交互式的AR体验。用户可以使用OrcaStudio创建各种AR应用，如产品展示、教育培训、游戏娱乐、广告营销等，并能轻松地将作品部署到不同的AR设备和平台上。\u001b[0m\n",
      "Thought:\u001b[32;1m\u001b[1;3m 关于《流浪地球》的问题需要靠我直接回答，而不是通过工具。\n",
      "Final Answer: 松应科技OrcaStudio主要用于增强现实（AR）内容的创建，比如产品展示、教育培训、游戏娱乐以及广告营销等场景。然而，在刘慈欣的小说《流浪地球》中，刘启并没有使用过OrcaStudio，因为这本小说是科幻作品，里面的科技设定并不完全对应于现实世界中的技术发展情况，而OrcaStudio作为现实中的一款3D内容协作平台，并未出现在该小说的情节里。\u001b[0m\n",
      "\n",
      "\u001b[1m> Finished chain.\u001b[0m\n"
     ]
    },
    {
     "data": {
      "text/plain": [
       "'松应科技OrcaStudio主要用于增强现实（AR）内容的创建，比如产品展示、教育培训、游戏娱乐以及广告营销等场景。然而，在刘慈欣的小说《流浪地球》中，刘启并没有使用过OrcaStudio，因为这本小说是科幻作品，里面的科技设定并不完全对应于现实世界中的技术发展情况，而OrcaStudio作为现实中的一款3D内容协作平台，并未出现在该小说的情节里。'"
      ]
     },
     "execution_count": 22,
     "metadata": {},
     "output_type": "execute_result"
    }
   ],
   "source": [
    "agent.run(\n",
    "    \"松应科技OrcaStudio有哪些使用场景? 在小说流浪地球中，刘启是否使用过OrcaStudio？\"\n",
    ")"
   ]
  },
  {
   "cell_type": "code",
   "execution_count": null,
   "id": "b3b857d6",
   "metadata": {},
   "outputs": [],
   "source": []
  }
 ],
 "metadata": {
  "kernelspec": {
   "display_name": "Python 3 (ipykernel)",
   "language": "python",
   "name": "python3"
  },
  "language_info": {
   "codemirror_mode": {
    "name": "ipython",
    "version": 3
   },
   "file_extension": ".py",
   "mimetype": "text/x-python",
   "name": "python",
   "nbconvert_exporter": "python",
   "pygments_lexer": "ipython3",
   "version": "3.11.7"
  }
 },
 "nbformat": 4,
 "nbformat_minor": 5
}
