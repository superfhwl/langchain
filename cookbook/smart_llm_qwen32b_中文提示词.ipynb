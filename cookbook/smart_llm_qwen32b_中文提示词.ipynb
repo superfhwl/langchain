{
 "cells": [
  {
   "attachments": {},
   "cell_type": "markdown",
   "id": "9e9b7651",
   "metadata": {},
   "source": [
    "# How to use a SmartLLMChain\n",
    "\n",
    "A SmartLLMChain is a form of self-critique chain that can help you if have particularly complex questions to answer. Instead of doing a single LLM pass, it instead performs these 3 steps:\n",
    "1. Ideation: Pass the user prompt n times through the LLM to get n output proposals (called \"ideas\"), where n is a parameter you can set \n",
    "2. Critique: The LLM critiques all ideas to find possible flaws and picks the best one \n",
    "3. Resolve: The LLM tries to improve upon the best idea (as chosen in the critique step) and outputs it. This is then the final output.\n",
    "\n",
    "SmartLLMChains are based on the SmartGPT workflow proposed in https://youtu.be/wVzuvf9D9BU.\n",
    "\n",
    "Note that SmartLLMChains\n",
    "- use more LLM passes (ie n+2 instead of just 1)\n",
    "- only work then the underlying LLM has the capability for reflection, which smaller models often don't\n",
    "- only work with underlying models that return exactly 1 output, not multiple\n",
    "\n",
    "This notebook demonstrates how to use a SmartLLMChain."
   ]
  },
  {
   "attachments": {},
   "cell_type": "markdown",
   "id": "714dede0",
   "metadata": {},
   "source": [
    "##### Same LLM for all steps"
   ]
  },
  {
   "cell_type": "code",
   "execution_count": 2,
   "id": "10e5ece6",
   "metadata": {},
   "outputs": [],
   "source": [
    "from langchain.prompts import PromptTemplate\n",
    "from langchain_experimental.smart_llm import SmartLLMChain\n",
    "from langchain_community.chat_models import ChatOllama\n",
    "model = ChatOllama(model=\"qwen:32b-chat-v1.5-q5_K_M\", temperature=0)"
   ]
  },
  {
   "attachments": {},
   "cell_type": "markdown",
   "id": "1780da51",
   "metadata": {},
   "source": [
    "As example question, we will use \"I have a 12 liter jug and a 6 liter jug. I want to measure 6 liters. How do I do it?\". This is an example from the original SmartGPT video (https://youtu.be/wVzuvf9D9BU?t=384). While this seems like a very easy question, LLMs struggle do these kinds of questions that involve numbers and physical reasoning.\n",
    "\n",
    "As we will see, all 3 initial ideas are completely wrong - even though we're using GPT4! Only when using self-reflection do we get a correct answer. "
   ]
  },
  {
   "cell_type": "code",
   "execution_count": 8,
   "id": "054af6b1",
   "metadata": {},
   "outputs": [],
   "source": [
    "hard_question = \"我有一个12升的罐子和一个6升的罐子。我要测量6升。我该怎么做呢?\"\n",
    "prompt = PromptTemplate.from_template(hard_question)\n",
    "chain = SmartLLMChain(llm=model, prompt=prompt, n_ideas=3, verbose=True)"
   ]
  },
  {
   "attachments": {},
   "cell_type": "markdown",
   "id": "8049cecd",
   "metadata": {},
   "source": [
    "So, we first create an LLM and prompt template"
   ]
  },
  {
   "attachments": {},
   "cell_type": "markdown",
   "id": "50b602e4",
   "metadata": {},
   "source": [
    "Now we can create a SmartLLMChain"
   ]
  },
  {
   "attachments": {},
   "cell_type": "markdown",
   "id": "6a72f276",
   "metadata": {},
   "source": [
    "Now we can use the SmartLLM as a drop-in replacement for our LLM. E.g.:"
   ]
  },
  {
   "cell_type": "code",
   "execution_count": 9,
   "id": "074e5e75",
   "metadata": {},
   "outputs": [
    {
     "name": "stdout",
     "output_type": "stream",
     "text": [
      "\n",
      "\n",
      "\u001b[1m> Entering new SmartLLMChain chain...\u001b[0m\n",
      "Prompt after formatting:\n",
      "\u001b[32;1m\u001b[1;3m我有一个12升的罐子和一个6升的罐子。我要测量6升。我该怎么做呢?\u001b[0m\n",
      "Idea 1:\n",
      "\u001b[36;1m\u001b[1;3m1. 首先，将12升的罐子装满水。\n",
      "2. 然后，从12升的罐子里倒出6升水到6升的空罐子里，这样12升的罐子里就剩下6升水了。\n",
      "3. 把这6升水倒入空的12升罐子中，此时12升罐子已满，留下6升的空间。\n",
      "4. 再次将12升的罐子装满水。\n",
      "5. 现在，从12升的罐子里倒出水到已经装有6升水的6升罐子中，直到6升罐子满。由于它已经有6升，你只需要再加6升 - 6升 = 0升，但在这个过程中，你会从12升的罐子里溢出正好6升的水。\n",
      "\n",
      "这样，你就成功地使用了这两个罐子测量出了准确的6升水。\u001b[0m\n",
      "Idea 2:\n",
      "\u001b[36;1m\u001b[1;3m1. 首先，将12升的罐子装满水。\n",
      "2. 然后，从12升的罐子里倒出6升水到6升的空罐子里，这样12升的罐子里就剩下6升水了。\n",
      "3. 把这6升水倒入另一个容器或者放回水源，现在12升的罐子是空的。\n",
      "4. 再次将12升的罐子装满水。\n",
      "5. 从12升的罐子里倒出水到6升的罐子，直到6升的罐子满为止。由于你已经知道如何用12升罐子和6升罐子得到恰好6升的水（步骤2），所以你会在正确的时候停止倒水。\n",
      "\n",
      "这样你就成功地使用了这两个罐子测量出了6升水。\u001b[0m\n",
      "Idea 3:\n",
      "\u001b[36;1m\u001b[1;3m1. 首先，将12升的罐子装满水。\n",
      "2. 然后，从12升的罐子里倒出6升水到6升的空罐子里，这样12升的罐子里就剩下6升水了。\n",
      "3. 把这6升水倒入另一个容器或者放回水源，现在12升的罐子是空的。\n",
      "4. 再次将12升的罐子装满水。\n",
      "5. 从12升的罐子里倒出水到6升的罐子，直到6升的罐子满为止。由于你已经知道如何用12升罐子和6升罐子得到恰好6升的水（步骤2），所以你会在正确的时候停止倒水。\n",
      "\n",
      "这样你就成功地使用了这两个罐子测量出了6升水。\u001b[0m\n",
      "Critique:\n",
      "\u001b[33;1m\u001b[1;3mI'm sorry, but I don't see the three response options you mentioned. Could you please provide me with those options so that I can help you identify the flaws and faulty logic in each? Once you've provided them, I'll analyze them step by step.\u001b[0m\n",
      "Resolution:\n",
      "\u001b[32;1m\u001b[1;3mI understand now. Since you haven't provided the three answer options, I'll assume a hypothetical scenario and provide an improved answer based on that.\n",
      "\n",
      "Hypothetical Answer Options:\n",
      "\n",
      "A) Fill the 12-liter jar with water, then pour into the 6-liter jar until it's full, leaving 6 liters in the 12-liter jar.\n",
      "B) Use the 6-liter jar to repeatedly fill the 12-liter jar until you've measured out 6 liters.\n",
      "C) Measure 6 liters of water directly using a measuring cup.\n",
      "\n",
      "Improved Answer:\n",
      "\n",
      "Given the available tools (a 12-liter and a 6-liter jar), option A is the most efficient method for measuring exactly 6 liters of water without any additional measuring devices. Here's the step-by-step process:\n",
      "\n",
      "1. Fill the 12-liter jar with water.\n",
      "2. Pour water from the 12-liter jar into the 6-liter jar until it's full, which will take 6 liters.\n",
      "3. The 12-liter jar now contains exactly 6 liters of water.\n",
      "\n",
      "However, if a more precise measurement is required or if the jars are not calibrated for accurate volume markings, using a measuring cup (option C) would be the most accurate method. Since we're focusing on the given tools, option A is the best choice in this context.\n",
      "\n",
      "Full Answer:\n",
      "The best method to measure exactly 6 liters of water using a 12-liter jar and a 6-liter jar is as follows:\n",
      "\n",
      "1. Fill the 12-liter jar with water.\n",
      "2. Pour water from the 12-liter jar into the 6-liter jar until it's full, which will take 6 liters.\n",
      "3. The 12-liter jar now contains exactly 6 liters of water.\u001b[0m\n",
      "\n",
      "\u001b[1m> Finished chain.\u001b[0m\n",
      "{'resolution': \"I understand now. Since you haven't provided the three answer options, I'll assume a hypothetical scenario and provide an improved answer based on that.\\n\\nHypothetical Answer Options:\\n\\nA) Fill the 12-liter jar with water, then pour into the 6-liter jar until it's full, leaving 6 liters in the 12-liter jar.\\nB) Use the 6-liter jar to repeatedly fill the 12-liter jar until you've measured out 6 liters.\\nC) Measure 6 liters of water directly using a measuring cup.\\n\\nImproved Answer:\\n\\nGiven the available tools (a 12-liter and a 6-liter jar), option A is the most efficient method for measuring exactly 6 liters of water without any additional measuring devices. Here's the step-by-step process:\\n\\n1. Fill the 12-liter jar with water.\\n2. Pour water from the 12-liter jar into the 6-liter jar until it's full, which will take 6 liters.\\n3. The 12-liter jar now contains exactly 6 liters of water.\\n\\nHowever, if a more precise measurement is required or if the jars are not calibrated for accurate volume markings, using a measuring cup (option C) would be the most accurate method. Since we're focusing on the given tools, option A is the best choice in this context.\\n\\nFull Answer:\\nThe best method to measure exactly 6 liters of water using a 12-liter jar and a 6-liter jar is as follows:\\n\\n1. Fill the 12-liter jar with water.\\n2. Pour water from the 12-liter jar into the 6-liter jar until it's full, which will take 6 liters.\\n3. The 12-liter jar now contains exactly 6 liters of water.\"}\n"
     ]
    }
   ],
   "source": [
    "output = chain.invoke({})\n",
    "\n",
    "for o in output:\n",
    "    print(output)"
   ]
  },
  {
   "attachments": {},
   "cell_type": "markdown",
   "id": "bbfebea1",
   "metadata": {},
   "source": [
    "##### Different LLM for different steps"
   ]
  },
  {
   "attachments": {},
   "cell_type": "markdown",
   "id": "5be6ec08",
   "metadata": {},
   "source": [
    "You can also use different LLMs for the different steps by passing `ideation_llm`, `critique_llm` and `resolve_llm`. You might want to do this to use a more creative (i.e., high-temperature) model for ideation and a more strict (i.e., low-temperature) model for critique and resolution."
   ]
  },
  {
   "cell_type": "code",
   "execution_count": 8,
   "id": "9c33fa19",
   "metadata": {},
   "outputs": [],
   "source": [
    "chain = SmartLLMChain(\n",
    "    ideation_llm=ChatOpenAI(temperature=0.9, model_name=\"gpt-4\"),\n",
    "    llm=ChatOpenAI(\n",
    "        temperature=0, model_name=\"gpt-4\"\n",
    "    ),  # will be used for critique and resolution as no specific llms are given\n",
    "    prompt=prompt,\n",
    "    n_ideas=3,\n",
    "    verbose=True,\n",
    ")"
   ]
  },
  {
   "cell_type": "code",
   "execution_count": null,
   "id": "886c1cc1",
   "metadata": {},
   "outputs": [],
   "source": []
  }
 ],
 "metadata": {
  "kernelspec": {
   "display_name": "Python 3 (ipykernel)",
   "language": "python",
   "name": "python3"
  },
  "language_info": {
   "codemirror_mode": {
    "name": "ipython",
    "version": 3
   },
   "file_extension": ".py",
   "mimetype": "text/x-python",
   "name": "python",
   "nbconvert_exporter": "python",
   "pygments_lexer": "ipython3",
   "version": "3.11.7"
  }
 },
 "nbformat": 4,
 "nbformat_minor": 5
}
