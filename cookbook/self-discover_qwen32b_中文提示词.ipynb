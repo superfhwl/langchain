{
 "cells": [
  {
   "cell_type": "markdown",
   "id": "a38e5d2d-7587-4192-90f2-b58e6c62f08c",
   "metadata": {},
   "source": [
    "# Self Discover\n",
    "\n",
    "An implementation of the [Self-Discover paper](https://arxiv.org/pdf/2402.03620.pdf).\n",
    "\n",
    "Based on [this implementation from @catid](https://github.com/catid/self-discover/tree/main?tab=readme-ov-file)"
   ]
  },
  {
   "cell_type": "code",
   "execution_count": 7,
   "id": "a18d8f24-5d9a-45c5-9739-6f3c4ed6c9c9",
   "metadata": {},
   "outputs": [],
   "source": [
    "# from langchain_openai import ChatOpenAI\n",
    "from langchain_community.chat_models import ChatOllama"
   ]
  },
  {
   "cell_type": "code",
   "execution_count": 8,
   "id": "9f554045-6e79-42d3-be4b-835bbbd0b78c",
   "metadata": {},
   "outputs": [],
   "source": [
    "# model = ChatOpenAI(temperature=0, model=\"gpt-4-turbo-preview\")\n",
    "model = ChatOllama(model=\"qwen:32b-chat-v1.5-q5_K_M\")"
   ]
  },
  {
   "cell_type": "code",
   "execution_count": 9,
   "id": "9e9925aa-638a-4862-823e-9803402b8f82",
   "metadata": {},
   "outputs": [],
   "source": [
    "from langchain import hub\n",
    "from langchain_core.prompts import PromptTemplate"
   ]
  },
  {
   "cell_type": "code",
   "execution_count": 10,
   "id": "c4cc5c8c-f6a5-42c7-9ed5-780d79b3b29a",
   "metadata": {},
   "outputs": [],
   "source": [
    "select_prompt = hub.pull(\"superfhwl/self-discovery-select\")"
   ]
  },
  {
   "cell_type": "code",
   "execution_count": 11,
   "id": "a5b53d29-f5b6-4f39-af97-bb6b133e1d18",
   "metadata": {},
   "outputs": [
    {
     "name": "stdout",
     "output_type": "stream",
     "text": [
      "选择几个关键的推理模块来解决给定的任务:\n",
      "\n",
      "所有推理模块说明:\n",
      "\u001b[33;1m\u001b[1;3m{reasoning_modules}\u001b[0m\n",
      "\n",
      "任务:\u001b[33;1m\u001b[1;3m{task_description}\u001b[0m\n",
      "\n",
      "选择几个对解决上述任务至关重要的模块:\n"
     ]
    }
   ],
   "source": [
    "select_prompt.pretty_print()"
   ]
  },
  {
   "cell_type": "code",
   "execution_count": 12,
   "id": "26eaa6bc-5202-4b22-9522-33f227c8eb55",
   "metadata": {},
   "outputs": [],
   "source": [
    "adapt_prompt = hub.pull(\"superfhwl/self-discovery-adapt\")"
   ]
  },
  {
   "cell_type": "code",
   "execution_count": 13,
   "id": "dc30afb9-180d-417b-9935-f7ef166710b8",
   "metadata": {},
   "outputs": [
    {
     "name": "stdout",
     "output_type": "stream",
     "text": [
      "重新表述和指定每个推理模块，以便它更好地帮助解决任务:\n",
      "\n",
      "选定模块说明:\n",
      "\u001b[33;1m\u001b[1;3m{selected_modules}\u001b[0m\n",
      "\n",
      "任务:\u001b[33;1m\u001b[1;3m{task_description}\u001b[0m\n",
      "\n",
      "调整每个推理模块的描述以更好地解决任务:\n"
     ]
    }
   ],
   "source": [
    "adapt_prompt.pretty_print()"
   ]
  },
  {
   "cell_type": "code",
   "execution_count": 14,
   "id": "a93253a9-8f50-49dd-8815-c3927bae1905",
   "metadata": {},
   "outputs": [],
   "source": [
    "structured_prompt = hub.pull(\"superfhwl/self-discovery-structure\")"
   ]
  },
  {
   "cell_type": "code",
   "execution_count": 15,
   "id": "8ea8dd78-4285-400b-83d2-c4a241903a79",
   "metadata": {},
   "outputs": [
    {
     "name": "stdout",
     "output_type": "stream",
     "text": [
      "将推理模块操作成JSON格式的分步推理计划:\n",
      "\n",
      "这里有一个例子:\n",
      "\n",
      "示例任务:\n",
      "\n",
      "如果你按照这些指示去做，你会回到起点吗?永远面向前方。后退一步。向左走9步。后退两步。向前走6步。向前走4步。后退4步。向右走三步。\n",
      "\n",
      "示例推理结构:\n",
      "\n",
      "{\n",
      "\"指令1后的位置\":\n",
      "\"指令2后的位置\":\n",
      "\"指令n后的位置\":\n",
      "\"最终位置是否与起始位置相同?\"\n",
      "}\n",
      "\n",
      "改编模块描述:\n",
      "\u001b[33;1m\u001b[1;3m{adapted_modules}\u001b[0m\n",
      "\n",
      "任务:\u001b[33;1m\u001b[1;3m{task_description}\u001b[0m\n",
      "\n",
      "实现一个推理结构，让求解者逐步遵循并得出正确答案。\n",
      "\n",
      "注意:不要在这个过程中得出结论。你的工作是生成一个计划，以便将来你可以填写它，并得出正确的结论\n"
     ]
    }
   ],
   "source": [
    "structured_prompt.pretty_print()"
   ]
  },
  {
   "cell_type": "code",
   "execution_count": 16,
   "id": "f3d4d79d-f414-4588-b476-4a35b3ba6fbf",
   "metadata": {},
   "outputs": [],
   "source": [
    "reasoning_prompt = hub.pull(\"superfhwl/self-discovery-reasoning\")"
   ]
  },
  {
   "cell_type": "code",
   "execution_count": 17,
   "id": "23d1e32e-d12e-454a-8484-c08e250e3262",
   "metadata": {},
   "outputs": [
    {
     "name": "stdout",
     "output_type": "stream",
     "text": [
      "按照JSON格式的分步推理计划正确解决任务。通过对给定任务的具体推理，填写键后面的值。不要简单地修改关键字。\n",
      "\n",
      "逻辑结构:\n",
      "\u001b[33;1m\u001b[1;3m{reasoning_structure}\u001b[0m\n",
      "\n",
      "任务:\u001b[33;1m\u001b[1;3m{task_description}\u001b[0m\n"
     ]
    }
   ],
   "source": [
    "reasoning_prompt.pretty_print()"
   ]
  },
  {
   "cell_type": "code",
   "execution_count": 18,
   "id": "7b9af01d-da28-4785-b069-efea61905cfa",
   "metadata": {},
   "outputs": [
    {
     "data": {
      "text/plain": [
       "PromptTemplate(input_variables=['reasoning_structure', 'task_description'], metadata={'lc_hub_owner': 'superfhwl', 'lc_hub_repo': 'self-discovery-reasoning', 'lc_hub_commit_hash': 'aeb99fab1804a7d5accd3ad464a61a51b0ded25734fd15a071a65f1dc866170f'}, template='按照JSON格式的分步推理计划正确解决任务。通过对给定任务的具体推理，填写键后面的值。不要简单地修改关键字。\\n\\n逻辑结构:\\n{reasoning_structure}\\n\\n任务:{task_description}')"
      ]
     },
     "execution_count": 18,
     "metadata": {},
     "output_type": "execute_result"
    }
   ],
   "source": [
    "reasoning_prompt"
   ]
  },
  {
   "cell_type": "code",
   "execution_count": 19,
   "id": "399bf160-e257-429f-b27e-66d4063f195f",
   "metadata": {},
   "outputs": [],
   "source": [
    "from langchain_core.output_parsers import StrOutputParser\n",
    "from langchain_core.runnables import RunnablePassthrough"
   ]
  },
  {
   "cell_type": "code",
   "execution_count": 20,
   "id": "5c3bd203-7dc1-457e-813f-283aaf059ec0",
   "metadata": {},
   "outputs": [],
   "source": [
    "select_chain = select_prompt | model | StrOutputParser()"
   ]
  },
  {
   "cell_type": "code",
   "execution_count": 21,
   "id": "86420da0-7cc2-4659-853e-9c3ef808e47c",
   "metadata": {},
   "outputs": [],
   "source": [
    "adapt_chain = adapt_prompt | model | StrOutputParser()"
   ]
  },
  {
   "cell_type": "code",
   "execution_count": 22,
   "id": "270a3905-58a3-4650-96ca-e8254040285f",
   "metadata": {},
   "outputs": [],
   "source": [
    "structure_chain = structured_prompt | model | StrOutputParser()"
   ]
  },
  {
   "cell_type": "code",
   "execution_count": 23,
   "id": "55b486cc-36be-497e-9eba-9c8dc228f2d1",
   "metadata": {},
   "outputs": [],
   "source": [
    "reasoning_chain = reasoning_prompt | model | StrOutputParser()"
   ]
  },
  {
   "cell_type": "code",
   "execution_count": 24,
   "id": "92d8d484-055b-48a8-98bc-e7d40c12db2e",
   "metadata": {},
   "outputs": [],
   "source": [
    "overall_chain = (\n",
    "    RunnablePassthrough.assign(selected_modules=select_chain)\n",
    "    .assign(adapted_modules=adapt_chain)\n",
    "    .assign(reasoning_structure=structure_chain)\n",
    "    .assign(answer=reasoning_chain)\n",
    ")"
   ]
  },
  {
   "cell_type": "code",
   "execution_count": 25,
   "id": "29fe385b-cf5d-4581-80e7-55462f5628bb",
   "metadata": {},
   "outputs": [],
   "source": [
    "reasoning_modules = [\n",
    "    \"1. 我怎样才能设计一个实验来解决这个问题呢?\"\n",
    "    \"2. 把解决这个问题的想法列一个清单，然后一个接一个地应用到这个问题上，看看是否能取得进展. \"\n",
    "    \"3. 我怎样才能衡量这个问题的进展呢?\"\n",
    "    \"4. 我怎样才能简化这个问题，使它更容易解决?\"\n",
    "    \"5. 这个问题背后的关键假设是什么?\"\n",
    "    \"6. 每种解决方案的潜在风险和缺点是什么?\"\n",
    "    \"7. 对这个问题有什么不同的观点或观点?\"\n",
    "    \"8. 这个问题及其解决方案的长期影响是什么?\"\n",
    "    \"9. 我怎样才能把这个问题分解成更小、更容易处理的部分呢?\"\n",
    "    \"10. 批判性思维:这种风格包括从不同的角度分析问题，质疑假设，评估现有的证据或信息. 它侧重于逻辑推理、基于证据的决策，以及识别思维中的潜在偏见或缺陷. \"\n",
    "    \"11. 尝试创造性思维，产生创新的和打破常规的想法来解决问题. 探索非传统的解决方案，超越传统的界限思考，鼓励想象力和独创性. \"\n",
    "    \"12. 寻求他人的意见和合作来解决问题. 强调团队合作，开放沟通，利用团队的不同观点和专业知识来提出有效的解决方案. \"\n",
    "    \"13. 使用系统思维:将问题视为更大系统的一部分，并理解各种元素的相互联系. 重点是确定影响问题的潜在原因、反馈回路和相互依赖关系，并制定整体解决方案，以解决整个系统. \"\n",
    "    \"14. 使用风险分析:评估与问题的不同解决方案或方法相关的潜在风险、不确定性和权衡. 强调评估潜在的后果和成功或失败的可能性，并在平衡分析风险和收益的基础上做出明智的决定. \"\n",
    "    \"15. 运用反思性思维:从问题中退后一步，花时间反省和自我反省. 检查可能影响解决问题的个人偏见、假设和心理模型，并从过去的经验中学习，以改进未来的方法. \"\n",
    "    \"16. 需要解决的核心问题是什么?\"\n",
    "    \"17. 造成这个问题的根本原因或因素是什么?\"\n",
    "    \"18. 有没有什么潜在的解决方案或策略是以前尝试过的?如果是，结果和教训是什么?\"\n",
    "    \"19. 在解决这个问题的过程中可能会遇到哪些潜在的障碍或挑战?\"\n",
    "    \"20. 是否有任何相关的数据或信息，可以提供洞察问题?如果是，有哪些可用的数据来源，如何分析这些数据?\"\n",
    "    \"21. 是否有任何利益相关者或个人直接受到这个问题的影响?他们的观点和需求是什么?\"\n",
    "    \"22. 需要什么资源(财政、人力、技术等)才能有效地解决这个问题?\"\n",
    "    \"23. 如何衡量或评估解决问题的进展或成功?\"\n",
    "    \"24. 可以使用哪些指标或度量标准?\"\n",
    "    \"25. 问题是技术性的还是实践性的，需要特定的专业知识或技能?或者它更像是一个概念或理论问题?\"\n",
    "    \"26. 问题是否涉及物理限制，例如有限的资源、基础设施或空间?\"\n",
    "    \"27. 这个问题是否与人类行为有关，比如社会、文化或心理问题?\"\n",
    "    \"28. 问题是否涉及决策或计划，需要在不确定或目标相互竞争的情况下做出选择?\"\n",
    "    \"29. 这个问题是需要数据分析、建模或优化技术的分析性问题吗?\"\n",
    "    \"30. 这个问题是一个需要创造性解决方案和创新的设计挑战吗?\"\n",
    "    \"31. 这个问题是否需要解决系统或结构性问题，而不仅仅是个别问题?\"\n",
    "    \"32. 这个问题是时间敏感还是紧急，需要立即注意和采取行动?\"\n",
    "    \"33. 对于这类问题说明，通常会产生什么样的解决方案?\"\n",
    "    \"34. 根据问题说明和当前的最佳解决方案，猜测其他可能的解决方案. \"\n",
    "    \"35. 让我们假设当前的最佳解决方案是完全错误的，还有什么其他方式来思考问题规范?\"\n",
    "    \"36. 根据您对这类问题说明的了解，修改当前最佳解决方案的最佳方法是什么?\"\n",
    "    \"37. 忽略当前的最佳解决方案，创造一个全新的解决方案. \"\n",
    "    \"38. 让我们一步一步来思考. \"\n",
    "    \"39. 让我们制定一个循序渐进的计划，并用好的符号和解释来实施它. \"\n",
    "]\n",
    "\n",
    "reasoning_modules_str = \"\\n\".join(reasoning_modules)"
   ]
  },
  {
   "cell_type": "code",
   "execution_count": 65,
   "id": "d411c7aa-7017-4d67-88b5-43b5d161c34c",
   "metadata": {},
   "outputs": [],
   "source": [
    "\n",
    "# task_example = \"丽莎有10个苹果。她给了她的朋友3个苹果，然后又从商店买了5个苹果。丽莎现在有几个苹果?\"\n",
    "\n",
    "# task_example = \"\"\"这个SVG路径元素<path d=\"M 55.57,80.69 L 57.38,65.80 M 57.38,65.80 L 48.90,57.46 M 48.90,57.46 L\n",
    "# 45.58,47.78 M 45.58,47.78 L 53.25,36.07 L 66.29,48.90 L 78.69,61.09 L 55.57,80.69\"/>绘制了一个：\n",
    "# (A)圆(B)七边形(C)六边形(D)风筝(E)线(F)八边形(G)五边形(H)矩形(I)扇形(J)三角形\"\"\"\n",
    "\n",
    "# task_example = \"不借助3D工具，直接输出一个Pixar USD 格式的文件文本，该文件中描述了一个黄色的box形状，该box在场景的正中央。长宽高分别为 长1米，宽1米，高1米。\"\n",
    "\n",
    "# task_example = \"\"\"一只母鸡每天可以生一只鸡蛋。鸡蛋可以被拿去贩卖，也可以拿来孵化更多的鸡。但是鸡蛋不能存储，必须当天销售或者当天开始孵化\n",
    "# 在孵化的过程中，负责孵化鸡蛋的这只母鸡无法产蛋。\n",
    "# 假设每个鸡蛋在孵化10天后即可孵化出一只小鸡，小鸡成长成母鸡需要30天。\n",
    "# 第一天有10只母鸡，请规划一个策略，在第1000天时，贩卖出尽量多的鸡蛋。\n",
    "# 不考虑生病和死亡的情况，假设鸡舍空间足够大可以容纳所有的鸡，假设有足够的饲料喂养所有的鸡\n",
    "# 生成一段python代码，实现上述策略，并计算出结果\"\"\"\n",
    "\n",
    "# task_example = \"\"\"给你一个整数数组 coins ，表示不同面额的硬币；以及一个整数 amount ，表示总金额。\n",
    "# 计算并返回可以凑成总金额所需的 最少的硬币个数 。如果没有任何一种硬币组合能组成总金额，返回 -1 。\n",
    "# 你可以认为每种硬币的数量是无限的。\n",
    "# 请输出一段python代码，实现上述算法\"\"\"\n",
    "\n",
    "task_example = \"\"\"有一个特殊的正方形房间，每面墙上都有一面镜子。除西南角以外，每个角落都放有一个接受器，编号为 0， 1，以及 2。\n",
    "正方形房间的墙壁长度为 p，一束激光从西南角射出，首先会与东墙相遇，相遇点到接收器 0 的距离为 q 。其中: 1.0 <= q <= p <= 1000.0\n",
    "返回光线最先遇到的接收器的编号（保证光线最终会遇到一个接收器）。\n",
    "请注意光线的反射角度满足物理定律，因此需考虑光线与墙壁的夹角。光线可以在房间内无限次反射，直到遇到一个接收器\n",
    "请输出一段python代码，实现上述算法\"\"\"\n",
    "\n",
    "output = overall_chain.invoke(\n",
    "    {\"task_description\": task_example, \"reasoning_modules\": reasoning_modules_str}\n",
    ")\n",
    "\n",
    "for k,v in output.items():\n",
    "    print(k)\n",
    "    print(v)"
   ]
  },
  {
   "cell_type": "code",
   "execution_count": 64,
   "id": "c14a291c-7c1b-43bc-807e-11180290985e",
   "metadata": {},
   "outputs": [
    {
     "name": "stdout",
     "output_type": "stream",
     "text": [
      "0\n"
     ]
    }
   ],
   "source": []
  }
 ],
 "metadata": {
  "kernelspec": {
   "display_name": "Python 3 (ipykernel)",
   "language": "python",
   "name": "python3"
  },
  "language_info": {
   "codemirror_mode": {
    "name": "ipython",
    "version": 3
   },
   "file_extension": ".py",
   "mimetype": "text/x-python",
   "name": "python",
   "nbconvert_exporter": "python",
   "pygments_lexer": "ipython3",
   "version": "3.11.7"
  }
 },
 "nbformat": 4,
 "nbformat_minor": 5
}
