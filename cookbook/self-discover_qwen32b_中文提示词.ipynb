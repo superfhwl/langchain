{
 "cells": [
  {
   "cell_type": "markdown",
   "id": "a38e5d2d-7587-4192-90f2-b58e6c62f08c",
   "metadata": {},
   "source": [
    "# Self Discover\n",
    "\n",
    "An implementation of the [Self-Discover paper](https://arxiv.org/pdf/2402.03620.pdf).\n",
    "\n",
    "Based on [this implementation from @catid](https://github.com/catid/self-discover/tree/main?tab=readme-ov-file)"
   ]
  },
  {
   "cell_type": "code",
   "execution_count": 37,
   "id": "a18d8f24-5d9a-45c5-9739-6f3c4ed6c9c9",
   "metadata": {},
   "outputs": [],
   "source": [
    "# from langchain_openai import ChatOpenAI\n",
    "from langchain_community.chat_models import ChatOllama"
   ]
  },
  {
   "cell_type": "code",
   "execution_count": 38,
   "id": "9f554045-6e79-42d3-be4b-835bbbd0b78c",
   "metadata": {},
   "outputs": [],
   "source": [
    "# model = ChatOpenAI(temperature=0, model=\"gpt-4-turbo-preview\")\n",
    "model = ChatOllama(model=\"qwen:32b-chat-v1.5-q5_K_M\")"
   ]
  },
  {
   "cell_type": "code",
   "execution_count": 39,
   "id": "9e9925aa-638a-4862-823e-9803402b8f82",
   "metadata": {},
   "outputs": [],
   "source": [
    "from langchain import hub\n",
    "from langchain_core.prompts import PromptTemplate"
   ]
  },
  {
   "cell_type": "code",
   "execution_count": 40,
   "id": "c4cc5c8c-f6a5-42c7-9ed5-780d79b3b29a",
   "metadata": {},
   "outputs": [],
   "source": [
    "select_prompt = hub.pull(\"superfhwl/self-discovery-select\")"
   ]
  },
  {
   "cell_type": "code",
   "execution_count": 41,
   "id": "a5b53d29-f5b6-4f39-af97-bb6b133e1d18",
   "metadata": {},
   "outputs": [
    {
     "name": "stdout",
     "output_type": "stream",
     "text": [
      "选择几个关键的推理模块来解决给定的任务:\n",
      "\n",
      "所有推理模块说明:\n",
      "\u001b[33;1m\u001b[1;3m{reasoning_modules}\u001b[0m\n",
      "\n",
      "任务:\u001b[33;1m\u001b[1;3m{task_description}\u001b[0m\n",
      "\n",
      "选择几个对解决上述任务至关重要的模块:\n"
     ]
    }
   ],
   "source": [
    "select_prompt.pretty_print()"
   ]
  },
  {
   "cell_type": "code",
   "execution_count": 42,
   "id": "26eaa6bc-5202-4b22-9522-33f227c8eb55",
   "metadata": {},
   "outputs": [],
   "source": [
    "adapt_prompt = hub.pull(\"superfhwl/self-discovery-adapt\")"
   ]
  },
  {
   "cell_type": "code",
   "execution_count": 43,
   "id": "dc30afb9-180d-417b-9935-f7ef166710b8",
   "metadata": {},
   "outputs": [
    {
     "name": "stdout",
     "output_type": "stream",
     "text": [
      "重新表述和指定每个推理模块，以便它更好地帮助解决任务:\n",
      "\n",
      "选定模块说明:\n",
      "\u001b[33;1m\u001b[1;3m{selected_modules}\u001b[0m\n",
      "\n",
      "任务:\u001b[33;1m\u001b[1;3m{task_description}\u001b[0m\n",
      "\n",
      "调整每个推理模块的描述以更好地解决任务:\n"
     ]
    }
   ],
   "source": [
    "adapt_prompt.pretty_print()"
   ]
  },
  {
   "cell_type": "code",
   "execution_count": 44,
   "id": "a93253a9-8f50-49dd-8815-c3927bae1905",
   "metadata": {},
   "outputs": [],
   "source": [
    "structured_prompt = hub.pull(\"superfhwl/self-discovery-structure\")"
   ]
  },
  {
   "cell_type": "code",
   "execution_count": 45,
   "id": "8ea8dd78-4285-400b-83d2-c4a241903a79",
   "metadata": {},
   "outputs": [
    {
     "name": "stdout",
     "output_type": "stream",
     "text": [
      "将推理模块操作成JSON格式的分步推理计划:\n",
      "\n",
      "这里有一个例子:\n",
      "\n",
      "示例任务:\n",
      "\n",
      "如果你按照这些指示去做，你会回到起点吗?永远面向前方。后退一步。向左走9步。后退两步。向前走6步。向前走4步。后退4步。向右走三步。\n",
      "\n",
      "示例推理结构:\n",
      "\n",
      "{\n",
      "\"指令1后的位置\":\n",
      "\"指令2后的位置\":\n",
      "\"指令n后的位置\":\n",
      "\"最终位置是否与起始位置相同?\"\n",
      "}\n",
      "\n",
      "改编模块描述:\n",
      "\u001b[33;1m\u001b[1;3m{adapted_modules}\u001b[0m\n",
      "\n",
      "任务:\u001b[33;1m\u001b[1;3m{task_description}\u001b[0m\n",
      "\n",
      "实现一个推理结构，让求解者逐步遵循并得出正确答案。\n",
      "\n",
      "注意:不要在这个过程中得出结论。你的工作是生成一个计划，以便将来你可以填写它，并得出正确的结论\n"
     ]
    }
   ],
   "source": [
    "structured_prompt.pretty_print()"
   ]
  },
  {
   "cell_type": "code",
   "execution_count": 46,
   "id": "f3d4d79d-f414-4588-b476-4a35b3ba6fbf",
   "metadata": {},
   "outputs": [],
   "source": [
    "reasoning_prompt = hub.pull(\"superfhwl/self-discovery-reasoning\")"
   ]
  },
  {
   "cell_type": "code",
   "execution_count": 47,
   "id": "23d1e32e-d12e-454a-8484-c08e250e3262",
   "metadata": {},
   "outputs": [
    {
     "name": "stdout",
     "output_type": "stream",
     "text": [
      "按照JSON格式的分步推理计划正确解决任务。通过对给定任务的具体推理，填写键后面的值。不要简单地修改关键字。\n",
      "\n",
      "逻辑结构:\n",
      "\u001b[33;1m\u001b[1;3m{reasoning_structure}\u001b[0m\n",
      "\n",
      "任务:\u001b[33;1m\u001b[1;3m{task_description}\u001b[0m\n"
     ]
    }
   ],
   "source": [
    "reasoning_prompt.pretty_print()"
   ]
  },
  {
   "cell_type": "code",
   "execution_count": 48,
   "id": "7b9af01d-da28-4785-b069-efea61905cfa",
   "metadata": {},
   "outputs": [
    {
     "data": {
      "text/plain": [
       "PromptTemplate(input_variables=['reasoning_structure', 'task_description'], metadata={'lc_hub_owner': 'superfhwl', 'lc_hub_repo': 'self-discovery-reasoning', 'lc_hub_commit_hash': 'aeb99fab1804a7d5accd3ad464a61a51b0ded25734fd15a071a65f1dc866170f'}, template='按照JSON格式的分步推理计划正确解决任务。通过对给定任务的具体推理，填写键后面的值。不要简单地修改关键字。\\n\\n逻辑结构:\\n{reasoning_structure}\\n\\n任务:{task_description}')"
      ]
     },
     "execution_count": 48,
     "metadata": {},
     "output_type": "execute_result"
    }
   ],
   "source": [
    "reasoning_prompt"
   ]
  },
  {
   "cell_type": "code",
   "execution_count": 49,
   "id": "399bf160-e257-429f-b27e-66d4063f195f",
   "metadata": {},
   "outputs": [],
   "source": [
    "from langchain_core.output_parsers import StrOutputParser\n",
    "from langchain_core.runnables import RunnablePassthrough"
   ]
  },
  {
   "cell_type": "code",
   "execution_count": 50,
   "id": "5c3bd203-7dc1-457e-813f-283aaf059ec0",
   "metadata": {},
   "outputs": [],
   "source": [
    "select_chain = select_prompt | model | StrOutputParser()"
   ]
  },
  {
   "cell_type": "code",
   "execution_count": 51,
   "id": "86420da0-7cc2-4659-853e-9c3ef808e47c",
   "metadata": {},
   "outputs": [],
   "source": [
    "adapt_chain = adapt_prompt | model | StrOutputParser()"
   ]
  },
  {
   "cell_type": "code",
   "execution_count": 52,
   "id": "270a3905-58a3-4650-96ca-e8254040285f",
   "metadata": {},
   "outputs": [],
   "source": [
    "structure_chain = structured_prompt | model | StrOutputParser()"
   ]
  },
  {
   "cell_type": "code",
   "execution_count": 53,
   "id": "55b486cc-36be-497e-9eba-9c8dc228f2d1",
   "metadata": {},
   "outputs": [],
   "source": [
    "reasoning_chain = reasoning_prompt | model | StrOutputParser()"
   ]
  },
  {
   "cell_type": "code",
   "execution_count": 54,
   "id": "92d8d484-055b-48a8-98bc-e7d40c12db2e",
   "metadata": {},
   "outputs": [],
   "source": [
    "overall_chain = (\n",
    "    RunnablePassthrough.assign(selected_modules=select_chain)\n",
    "    .assign(adapted_modules=adapt_chain)\n",
    "    .assign(reasoning_structure=structure_chain)\n",
    "    .assign(answer=reasoning_chain)\n",
    ")"
   ]
  },
  {
   "cell_type": "code",
   "execution_count": 55,
   "id": "29fe385b-cf5d-4581-80e7-55462f5628bb",
   "metadata": {},
   "outputs": [],
   "source": [
    "reasoning_modules = [\n",
    "    \"1. 我怎样才能设计一个实验来解决这个问题呢?\"\n",
    "    \"2. 把解决这个问题的想法列一个清单，然后一个接一个地应用到这个问题上，看看是否能取得进展. \"\n",
    "    \"3. 我怎样才能衡量这个问题的进展呢?\"\n",
    "    \"4. 我怎样才能简化这个问题，使它更容易解决?\"\n",
    "    \"5. 这个问题背后的关键假设是什么?\"\n",
    "    \"6. 每种解决方案的潜在风险和缺点是什么?\"\n",
    "    \"7. 对这个问题有什么不同的观点或观点?\"\n",
    "    \"8. 这个问题及其解决方案的长期影响是什么?\"\n",
    "    \"9. 我怎样才能把这个问题分解成更小、更容易处理的部分呢?\"\n",
    "    \"10. 批判性思维:这种风格包括从不同的角度分析问题，质疑假设，评估现有的证据或信息. 它侧重于逻辑推理、基于证据的决策，以及识别思维中的潜在偏见或缺陷. \"\n",
    "    \"11. 尝试创造性思维，产生创新的和打破常规的想法来解决问题. 探索非传统的解决方案，超越传统的界限思考，鼓励想象力和独创性. \"\n",
    "    \"12. 寻求他人的意见和合作来解决问题. 强调团队合作，开放沟通，利用团队的不同观点和专业知识来提出有效的解决方案. \"\n",
    "    \"13. 使用系统思维:将问题视为更大系统的一部分，并理解各种元素的相互联系. 重点是确定影响问题的潜在原因、反馈回路和相互依赖关系，并制定整体解决方案，以解决整个系统. \"\n",
    "    \"14. 使用风险分析:评估与问题的不同解决方案或方法相关的潜在风险、不确定性和权衡. 强调评估潜在的后果和成功或失败的可能性，并在平衡分析风险和收益的基础上做出明智的决定. \"\n",
    "    \"15. 运用反思性思维:从问题中退后一步，花时间反省和自我反省. 检查可能影响解决问题的个人偏见、假设和心理模型，并从过去的经验中学习，以改进未来的方法. \"\n",
    "    \"16. 需要解决的核心问题是什么?\"\n",
    "    \"17. 造成这个问题的根本原因或因素是什么?\"\n",
    "    \"18. 有没有什么潜在的解决方案或策略是以前尝试过的?如果是，结果和教训是什么?\"\n",
    "    \"19. 在解决这个问题的过程中可能会遇到哪些潜在的障碍或挑战?\"\n",
    "    \"20. 是否有任何相关的数据或信息，可以提供洞察问题?如果是，有哪些可用的数据来源，如何分析这些数据?\"\n",
    "    \"21. 是否有任何利益相关者或个人直接受到这个问题的影响?他们的观点和需求是什么?\"\n",
    "    \"22. 需要什么资源(财政、人力、技术等)才能有效地解决这个问题?\"\n",
    "    \"23. 如何衡量或评估解决问题的进展或成功?\"\n",
    "    \"24. 可以使用哪些指标或度量标准?\"\n",
    "    \"25. 问题是技术性的还是实践性的，需要特定的专业知识或技能?或者它更像是一个概念或理论问题?\"\n",
    "    \"26. 问题是否涉及物理限制，例如有限的资源、基础设施或空间?\"\n",
    "    \"27. 这个问题是否与人类行为有关，比如社会、文化或心理问题?\"\n",
    "    \"28. 问题是否涉及决策或计划，需要在不确定或目标相互竞争的情况下做出选择?\"\n",
    "    \"29. 这个问题是需要数据分析、建模或优化技术的分析性问题吗?\"\n",
    "    \"30. 这个问题是一个需要创造性解决方案和创新的设计挑战吗?\"\n",
    "    \"31. 这个问题是否需要解决系统或结构性问题，而不仅仅是个别问题?\"\n",
    "    \"32. 这个问题是时间敏感还是紧急，需要立即注意和采取行动?\"\n",
    "    \"33. 对于这类问题说明，通常会产生什么样的解决方案?\"\n",
    "    \"34. 根据问题说明和当前的最佳解决方案，猜测其他可能的解决方案. \"\n",
    "    \"35. 让我们假设当前的最佳解决方案是完全错误的，还有什么其他方式来思考问题规范?\"\n",
    "    \"36. 根据您对这类问题说明的了解，修改当前最佳解决方案的最佳方法是什么?\"\n",
    "    \"37. 忽略当前的最佳解决方案，创造一个全新的解决方案. \"\n",
    "    \"38. 让我们一步一步来思考. \"\n",
    "    \"39. 让我们制定一个循序渐进的计划，并用好的符号和解释来实施它. \"\n",
    "]\n",
    "\n",
    "reasoning_modules_str = \"\\n\".join(reasoning_modules)"
   ]
  },
  {
   "cell_type": "code",
   "execution_count": 60,
   "id": "d411c7aa-7017-4d67-88b5-43b5d161c34c",
   "metadata": {},
   "outputs": [
    {
     "name": "stdout",
     "output_type": "stream",
     "text": [
      "task_description\n",
      "这里中国，现在是夏天。\n",
      "有一间卧室，门在东北角，窗在正南。卧室南北长3.5米，东西长2.8米。\n",
      "卧室里有一张床，长度是2.1米，宽度是1.5米。有一个书桌，长度是1米，宽度是0.6米，高度是0.8米。有一张靠背椅，坐高0.45米。有一个衣柜，长1.2米，宽0.4米，高2米，衣柜是双开门。\n",
      "请设计一个布局摆放上述家具，满足如下条件：1. 床可以从三面上下。2. 坐在靠背椅上使用书桌写字，比较便利，并且光线充足。3. 衣柜可以正常使用，不会影响到衣柜开门。\n",
      "请生成一段json文件，通过上述家具的坐标，描述上述布局的俯视图\n",
      "reasoning_modules\n",
      "1. 我怎样才能设计一个实验来解决这个问题呢?2. 把解决这个问题的想法列一个清单，然后一个接一个地应用到这个问题上，看看是否能取得进展. 3. 我怎样才能衡量这个问题的进展呢?4. 我怎样才能简化这个问题，使它更容易解决?5. 这个问题背后的关键假设是什么?6. 每种解决方案的潜在风险和缺点是什么?7. 对这个问题有什么不同的观点或观点?8. 这个问题及其解决方案的长期影响是什么?9. 我怎样才能把这个问题分解成更小、更容易处理的部分呢?10. 批判性思维:这种风格包括从不同的角度分析问题，质疑假设，评估现有的证据或信息. 它侧重于逻辑推理、基于证据的决策，以及识别思维中的潜在偏见或缺陷. 11. 尝试创造性思维，产生创新的和打破常规的想法来解决问题. 探索非传统的解决方案，超越传统的界限思考，鼓励想象力和独创性. 12. 寻求他人的意见和合作来解决问题. 强调团队合作，开放沟通，利用团队的不同观点和专业知识来提出有效的解决方案. 13. 使用系统思维:将问题视为更大系统的一部分，并理解各种元素的相互联系. 重点是确定影响问题的潜在原因、反馈回路和相互依赖关系，并制定整体解决方案，以解决整个系统. 14. 使用风险分析:评估与问题的不同解决方案或方法相关的潜在风险、不确定性和权衡. 强调评估潜在的后果和成功或失败的可能性，并在平衡分析风险和收益的基础上做出明智的决定. 15. 运用反思性思维:从问题中退后一步，花时间反省和自我反省. 检查可能影响解决问题的个人偏见、假设和心理模型，并从过去的经验中学习，以改进未来的方法. 16. 需要解决的核心问题是什么?17. 造成这个问题的根本原因或因素是什么?18. 有没有什么潜在的解决方案或策略是以前尝试过的?如果是，结果和教训是什么?19. 在解决这个问题的过程中可能会遇到哪些潜在的障碍或挑战?20. 是否有任何相关的数据或信息，可以提供洞察问题?如果是，有哪些可用的数据来源，如何分析这些数据?21. 是否有任何利益相关者或个人直接受到这个问题的影响?他们的观点和需求是什么?22. 需要什么资源(财政、人力、技术等)才能有效地解决这个问题?23. 如何衡量或评估解决问题的进展或成功?24. 可以使用哪些指标或度量标准?25. 问题是技术性的还是实践性的，需要特定的专业知识或技能?或者它更像是一个概念或理论问题?26. 问题是否涉及物理限制，例如有限的资源、基础设施或空间?27. 这个问题是否与人类行为有关，比如社会、文化或心理问题?28. 问题是否涉及决策或计划，需要在不确定或目标相互竞争的情况下做出选择?29. 这个问题是需要数据分析、建模或优化技术的分析性问题吗?30. 这个问题是一个需要创造性解决方案和创新的设计挑战吗?31. 这个问题是否需要解决系统或结构性问题，而不仅仅是个别问题?32. 这个问题是时间敏感还是紧急，需要立即注意和采取行动?33. 对于这类问题说明，通常会产生什么样的解决方案?34. 根据问题说明和当前的最佳解决方案，猜测其他可能的解决方案. 35. 让我们假设当前的最佳解决方案是完全错误的，还有什么其他方式来思考问题规范?36. 根据您对这类问题说明的了解，修改当前最佳解决方案的最佳方法是什么?37. 忽略当前的最佳解决方案，创造一个全新的解决方案. 38. 让我们一步一步来思考. 39. 让我们制定一个循序渐进的计划，并用好的符号和解释来实施它. \n",
      "selected_modules\n",
      "19. 在解决这个问题的过程中可能会遇到哪些潜在的障碍或挑战?\n",
      "20. 是否有任何相关的数据或信息，可以提供洞察问题?如果是，有哪些可用的数据来源，如何分析这些数据?\n",
      "21. 是否有任何利益相关者或个人直接受到这个问题的影响?他们的观点和需求是什么?\n",
      "24. 如何衡量或评估解决问题的进展或成功?25. 问题是技术性的还是实践性的，需要特定的专业知识或技能?或者它更像是一个概念或理论问题?\n",
      "26. 问题是否涉及物理限制，例如有限的资源、基础设施或空间?\n",
      "28. 问题是否与人类行为有关，比如社会、文化或心理问题?\n",
      "30. 这个问题是一个需要创造性解决方案和创新的设计挑战吗?\n",
      "\n",
      "在设计卧室家具布局时，我们需要考虑物理限制（房间尺寸、门和窗户的位置）、功能性要求（床的上下便利性、书桌使用的舒适性和光线充足度、衣柜的使用）以及人类行为因素（例如，使用者的习惯和偏好）。由于这是一个实践性的空间规划问题，它需要特定的空间感知和设计技巧。因此，我们将选择与这些内容相关的推理模块来指导我们完成任务。\n",
      "adapted_modules\n",
      "19. 在设计卧室布局时可能遇到的挑战包括物理空间限制（如门、窗户和现有尺寸）、家具大小和形状、以及兼顾舒适度与功能性。\n",
      "20. 相关数据或信息：提供的房间尺寸（3.5米 x 2.8米）、床、书桌、靠背椅和衣柜的具体尺寸。可以利用这些信息来模拟和优化布局方案。\n",
      "21. 利益相关者：卧室使用者，他们的需求是便利的上下床通道、舒适的学习环境和充足的光线。\n",
      "24. 测量进展或成功的方法：根据最终布局是否满足所有条件（三面上下床、便利书写与充足光线、正常衣柜使用）来评估。\n",
      "25. 问题类型：这是一个实践性问题，涉及空间规划和家具布置，需要设计技巧和对人类活动的理解。\n",
      "26. 物理限制：房间尺寸、门的位置（东北角）、窗户位置（正南），以及家具本身的大小和形状。\n",
      "28. 与人类行为相关的因素：使用者的习惯，如阅读、书写时的舒适度需求，以及光线的影响。\n",
      "30. 设计挑战：创新地安排家具以满足所有条件，同时确保布局美观和实用。\n",
      "\n",
      "任务: 在中国夏天，设计一间南北长3.5米、东西宽2.8米的卧室布局，放置床（2.1m x 1.5m）、书桌（1m x 0.6m、0.8m高）、靠背椅（坐高0.45m）和衣柜（1.2m x 0.4m、2m高），确保床可三面上下，书写时光线充足，且不影响衣柜门的开启。\n",
      "\n",
      "生成JSON文件示例（俯视图布局）：\n",
      "\n",
      "```json\n",
      "{\n",
      "  \"room_dimensions\": {\n",
      "    \"length\": 3.5,\n",
      "    \"width\": 2.8\n",
      "  },\n",
      "  \"furniture\": [\n",
      "    {\n",
      "      \"name\": \"床\",\n",
      "      \"type\": \"bed\",\n",
      "      \"dimensions\": {\n",
      "        \"length\": 2.1,\n",
      "        \"width\": 1.5\n",
      "      },\n",
      "      \"position\": {\n",
      "        \"x\": 0.4, // 确保两边有足够空间上下床，且不会挡住门\n",
      "        \"y\": 0.6, // 避免窗户直接照射到床铺\n",
      "        \"orientation\": \"horizontal\" // 水平放置\n",
      "      }\n",
      "    },\n",
      "    {\n",
      "      \"name\": \"书桌\",\n",
      "      \"type\": \"desk\",\n",
      "      \"dimensions\": {\n",
      "        \"length\": 1,\n",
      "        \"width\": 0.6,\n",
      "        \"height\": 0.8\n",
      "      },\n",
      "      \"position\": {\n",
      "        \"x\": 2.1, // 靠近窗户，确保光线充足\n",
      "        \"y\": 1.5, // 在床的对角线位置，避免阻挡门和衣柜\n",
      "        \"orientation\": \"vertical\" // 竖直放置，方便使用靠背椅\n",
      "      }\n",
      "    },\n",
      "    {\n",
      "      \"name\": \"靠背椅\",\n",
      "      \"type\": \"chair\",\n",
      "      \"dimensions\": {\n",
      "        \"height\": 0.45\n",
      "      },\n",
      "      \"position\": {\n",
      "        \"x\": 2.15, // 靠近书桌，方便使用\n",
      "        \"y\": 1.55, // 确保椅背不碰到床\n",
      "        \"orientation\": \"vertical\" // 垂直放置，面向书桌\n",
      "      }\n",
      "    },\n",
      "    {\n",
      "      \"name\": \"衣柜\",\n",
      "      \"type\": \"wardrobe\",\n",
      "      \"dimensions\": {\n",
      "        \"length\": 1.2,\n",
      "        \"width\": 0.4,\n",
      "        \"height\": 2\n",
      "      },\n",
      "      \"position\": {\n",
      "        \"x\": 0.8, // 靠近墙，不影响其他家具使用\n",
      "        \"y\": 0.65, // 确保顶部不碰到天花板，且不会挡住门和床\n",
      "        \"orientation\": \"vertical\" // 竖直放置，充分利用空间\n",
      "      }\n",
      "    }\n",
      "  ]\n",
      "}\n",
      "```\n",
      "\n",
      "请根据实际需要调整家具位置以适应房间具体状况。\n",
      "reasoning_structure\n",
      "```json\n",
      "{\n",
      "  \"任务概述\": \"设计卧室家具布局，确保床可三面上下、书写时光线充足且不影响衣柜门开启。\",\n",
      "  \n",
      "  \"1. 确定房间尺寸\": {\n",
      "    \"长度\": 3.5,\n",
      "    \"宽度\": 2.8\n",
      "  },\n",
      "  \n",
      "  \"2. 定义物理限制\": [\n",
      "    {\"名称\": \"门\", \"位置\": \"东北角\"},\n",
      "    {\"名称\": \"窗户\", \"位置\": \"正南\"},\n",
      "    {\"名称\": \"床\", \"尺寸\": {\"长度\": 2.1, \"宽度\": 1.5}, \"需求\": \"三面上下\"},\n",
      "    {\"名称\": \"书桌\", \"尺寸\": {\"长度\": 1, \"宽度\": 0.6, \"高度\": 0.8}},\n",
      "    {\"名称\": \"靠背椅\", \"尺寸\": {\"坐高\": 0.45}},\n",
      "    {\"名称\": \"衣柜\", \"尺寸\": {\"长度\": 1.2, \"宽度\": 0.4, \"高度\": 2}, \"需求\": \"双开门，不影响使用\"}\n",
      "  ],\n",
      "  \n",
      "  \"3. 定义布局目标\": [\n",
      "    {\"目标\": \"床的便利上下\", \"位置\": \"?\"},\n",
      "    {\"目标\": \"书桌的便利与光线充足\", \"位置\": \"?\"},\n",
      "    {\"目标\": \"衣柜正常使用\", \"位置\": \"?\"}\n",
      "  ],\n",
      "  \n",
      "  \"4. 初始考虑\": [\n",
      "    {\"家具\": \"床\", \"可能位置\": {\"x开始\": 0.5, \"y开始\": 0.5, \"x结束\": 2.1, \"y结束\": 1.5}, \"方向\": [\"horizontal\", \"vertical\"]},\n",
      "    {\"家具\": \"书桌\", \"可能位置\": {\"x开始\": 1, \"y开始\": 0.6, \"x结束\": 2.4, \"y结束\": 2.2}, \"方向\": [\"horizontal\", \"vertical\"]},\n",
      "    {\"家具\": \"靠背椅\", \"可能位置\": {\"x开始\": 1.05, \"y开始\": 0.7, \"x结束\": 2.35, \"y结束\": 2.15}},\n",
      "    {\"家具\": \"衣柜\", \"可能位置\": {\"x开始\": 0.6, \"y开始\": 0.5, \"x结束\": 1.8, \"y结束\": 2}, \"方向\": [\"vertical\"]},\n",
      "  ],\n",
      "  \n",
      "  \"5. 确定床的位置和方向\": {\n",
      "    \"决策\": \"?\",\n",
      "    \"位置\": {\"x\": ?, \"y\": ?, \"方向\": ?}\n",
      "  },\n",
      "  \n",
      "  \"6. 避免影响衣柜门开启\": {\n",
      "    \"书桌位置\": {\"x\": ?, \"y\": ?, \"方向\": ?},\n",
      "    \"靠背椅位置\": {\"x\": ?, \"y\": ?}\n",
      "  },\n",
      "  \n",
      "  \"7. 确保书桌光线充足\": {\n",
      "    \"决策\": \"?\",\n",
      "    \"位置\": {\"x\": ?, \"y\": ?, \"方向\": ?}\n",
      "  },\n",
      "  \n",
      "  \"8. 最终布局验证\": {\n",
      "    \"床可三面上下\": \"?\",\n",
      "    \"书写便利且光线充足\": \"?\",\n",
      "    \"衣柜正常使用\": \"?\"\n",
      "  },\n",
      "  \n",
      "  \"9. 编写最终的JSON布局\": {\n",
      "    \"bed\": {\"x\": ?, \"y\": ?, \"orientation\": ?},\n",
      "    \"desk\": {\"x\": ?, \"y\": ?, \"orientation\": ?},\n",
      "    \"chair\": {\"x\": ?, \"y\": ?},\n",
      "    \"wardrobe\": {\"x\": ?, \"y\": ?, \"direction\": ?}\n",
      "  }\n",
      "  \n",
      "  求解者将逐步完成上述步骤，得出正确的布局信息。请勿在此过程中提供任何答案或直接推理。\n",
      "\n",
      "answer\n",
      "```json\n",
      "{\n",
      "   \"任务概述\": \"设计卧室家具布局，确保床可三面上下、书写时光线充足且不影响衣柜门开启。\",\n",
      "  \n",
      "   \"1. 确定房间尺寸\": {\n",
      "     \"长度\": 3.5,\n",
      "     \"宽度\": 2.8\n",
      "   },\n",
      "  \n",
      "   \"2. 定义物理限制\": [\n",
      "     { \"名称\": \"门\", \"位置\": \"东北角\" },\n",
      "     { \"名称\": \"窗户\", \"位置\": \"正南\" },\n",
      "     { \"名称\": \"床\", \"尺寸\": {\"长度\": 2.1, \"宽度\": 1.5}, \"需求\": \"三面上下\" },\n",
      "     { \"名称\": \"书桌\", \"尺寸\": {\"长度\": 1, \"宽度\": 0.6, \"高度\": 0.8} },\n",
      "     { \"名称\": \"靠背椅\", \"尺寸\": {\"坐高\": 0.45} },\n",
      "     { \"名称\": \"衣柜\", \"尺寸\": {\"长度\": 1.2, \"宽度\": 0.4, \"高度\": 2}, \"需求\": \"双开门，不影响使用\" }\n",
      "   ],\n",
      "  \n",
      "   \"3. 定义布局目标\": [\n",
      "     { \"目标\": \"床的便利上下\", \"位置\": \"?\" },\n",
      "     { \"目标\": \"书桌的便利与光线充足\", \"位置\": \"?\" },\n",
      "     { \"目标\": \"衣柜正常使用\", \"位置\": \"?\" }\n",
      "   ],\n",
      "  \n",
      "   \"4. 初始考虑\": [\n",
      "     { \"家具\": \"床\", \"可能位置\": {\"x开始\": 0.5, \"y开始\": 0.5, \"x结束\": 2.1, \"y结束\": 1.5}, \"方向\": [\"horizontal\", \"vertical\"] },\n",
      "     { \"家具\": \"书桌\", \"可能位置\": {\"x开始\": 1, \"y开始\": 0.6, \"x结束\": 2.4, \"y结束\": 2.2}, \"direction\": [\"horizontal\", \"vertical\"] },\n",
      "     { \"家具\": \"靠背椅\", \"可能位置\": {\"x开始\": 1.05, \"y开始\": 0.7, \"x结束\": 2.35, \"y结束\": 2.15} },\n",
      "     { \"家具\": \"衣柜\", \"可能位置\": {\"x开始\": 0.6, \"y开始\": 0.5, \"x结束\": 1.8, \"y结束\": 2}, \"方向\": [\"vertical\"] }\n",
      "   ],\n",
      "  \n",
      "   \"5. 确定床的位置和方向\": {\n",
      "     \"决策\": \"将床放在房间的南侧，宽度方向沿墙放置，便于三面上下\",\n",
      "     \"位置\": {\"x\": 1.5, \"y\": 0.5, \"方向\": \"horizontal\"}\n",
      "   },\n",
      "  \n",
      "   \"6. 避免影响衣柜门开启\": {\n",
      "     \"书桌位置\": {\"x\": 2.4, \"y\": 0.6, \"direction\": \"vertical\"},\n",
      "     \"靠背椅位置\": {\"x\": 1.5, \"y\": 1.5}\n",
      "   },\n",
      "  \n",
      "   \"7. 确保书桌光线充足\": {\n",
      "     \"决策\": \"将书桌放在窗边，垂直于床放置\",\n",
      "     \"位置\": {\"x\": 2.4, \"y\": 0.6, \"direction\": \"vertical\"}\n",
      "   },\n",
      "  \n",
      "   \"8. 最终布局验证\": {\n",
      "     \"床可三面上下\": \"是\",\n",
      "     \"书写便利且光线充足\": \"是\",\n",
      "     \"衣柜正常使用\": \"是\"\n",
      "   },\n",
      "  \n",
      "   \"9. 编写最终的JSON布局\": {\n",
      "     \"bed\": {\"x\": 1.5, \"y\": 0.5, \"orientation\": \"horizontal\"},\n",
      "     \"desk\": {\"x\": 2.4, \"y\": 0.6, \"orientation\": \"vertical\"},\n",
      "     \"chair\": {\"x\": 1.5, \"y\": 1.5},\n",
      "     \"wardrobe\": {\"x\": 0.6, \"y\": 0.5, \"direction\": \"vertical\"}\n",
      "   }\n",
      "}\n",
      "```\n"
     ]
    }
   ],
   "source": [
    "\n",
    "# task_example = \"丽莎有10个苹果。她给了她的朋友3个苹果，然后又从商店买了5个苹果。丽莎现在有几个苹果?\"\n",
    "\n",
    "# task_example = \"\"\"这个SVG路径元素<path d=\"M 55.57,80.69 L 57.38,65.80 M 57.38,65.80 L 48.90,57.46 M 48.90,57.46 L\n",
    "# 45.58,47.78 M 45.58,47.78 L 53.25,36.07 L 66.29,48.90 L 78.69,61.09 L 55.57,80.69\"/>绘制了一个：\n",
    "# (A)圆(B)七边形(C)六边形(D)风筝(E)线(F)八边形(G)五边形(H)矩形(I)扇形(J)三角形\"\"\"\n",
    "\n",
    "# task_example = \"不借助3D工具，直接输出一个Pixar USD 格式的文件文本，该文件中描述了一个黄色的box形状，该box在场景的正中央。长宽高分别为 长1米，宽1米，高1米。\"\n",
    "\n",
    "# task_example = \"\"\"一只母鸡每天可以生一只鸡蛋。鸡蛋可以被拿去贩卖，也可以拿来孵化更多的鸡。但是鸡蛋不能存储，必须当天销售或者当天开始孵化\n",
    "# 在孵化的过程中，负责孵化鸡蛋的这只母鸡无法产蛋。\n",
    "# 假设每个鸡蛋在孵化10天后即可孵化出一只小鸡，小鸡成长成母鸡需要30天。\n",
    "# 第一天有10只母鸡，请规划一个策略，在第1000天时，贩卖出尽量多的鸡蛋。\n",
    "# 不考虑生病和死亡的情况，假设鸡舍空间足够大可以容纳所有的鸡，假设有足够的饲料喂养所有的鸡\n",
    "# 生成一段python代码，实现上述策略，并计算出结果\"\"\"\n",
    "\n",
    "# task_example = \"\"\"给你一个整数数组 coins ，表示不同面额的硬币；以及一个整数 amount ，表示总金额。\n",
    "# 计算并返回可以凑成总金额所需的 最少的硬币个数 。如果没有任何一种硬币组合能组成总金额，返回 -1 。\n",
    "# 你可以认为每种硬币的数量是无限的。\n",
    "# 请输出一段python代码，实现上述算法\"\"\"\n",
    "\n",
    "task_example = \"\"\"这里中国，现在是夏天。\n",
    "有一间卧室，门在东北角，窗在正南。卧室南北长3.5米，东西长2.8米。\n",
    "卧室里有一张床，长度是2.1米，宽度是1.5米。有一个书桌，长度是1米，宽度是0.6米，高度是0.8米。有一张靠背椅，坐高0.45米。有一个衣柜，长1.2米，宽0.4米，高2米，衣柜是双开门。\n",
    "请设计一个布局摆放上述家具，满足如下条件：1. 床可以从三面上下。2. 坐在靠背椅上使用书桌写字，比较便利，并且光线充足。3. 衣柜可以正常使用，不会影响到衣柜开门。\n",
    "请生成一段json文件，通过上述家具的坐标，描述上述布局的俯视图\"\"\"\n",
    "\n",
    "\n",
    "output = overall_chain.invoke(\n",
    "    {\"task_description\": task_example, \"reasoning_modules\": reasoning_modules_str}\n",
    ")\n",
    "\n",
    "for k,v in output.items():\n",
    "    print(k)\n",
    "    print(v)"
   ]
  },
  {
   "cell_type": "code",
   "execution_count": 57,
   "id": "c14a291c-7c1b-43bc-807e-11180290985e",
   "metadata": {},
   "outputs": [
    {
     "ename": "AttributeError",
     "evalue": "type object 'Attribute' has no attribute 'Tokens'",
     "output_type": "error",
     "traceback": [
      "\u001b[0;31m---------------------------------------------------------------------------\u001b[0m",
      "\u001b[0;31mAttributeError\u001b[0m                            Traceback (most recent call last)",
      "Cell \u001b[0;32mIn[57], line 9\u001b[0m\n\u001b[1;32m      7\u001b[0m \u001b[38;5;66;03m# 添加房间的基本几何体（长方体）\u001b[39;00m\n\u001b[1;32m      8\u001b[0m room_prim \u001b[38;5;241m=\u001b[39m stage\u001b[38;5;241m.\u001b[39mDefinePrim(\u001b[38;5;124m\"\u001b[39m\u001b[38;5;124m/Room\u001b[39m\u001b[38;5;124m\"\u001b[39m, \u001b[38;5;124m\"\u001b[39m\u001b[38;5;124mBox\u001b[39m\u001b[38;5;124m\"\u001b[39m)\n\u001b[0;32m----> 9\u001b[0m room_geom \u001b[38;5;241m=\u001b[39m room_prim\u001b[38;5;241m.\u001b[39mCreateAttribute(\u001b[38;5;124m\"\u001b[39m\u001b[38;5;124mgeometry\u001b[39m\u001b[38;5;124m\"\u001b[39m, usd\u001b[38;5;241m.\u001b[39mAttribute\u001b[38;5;241m.\u001b[39mTokens)\n\u001b[1;32m     10\u001b[0m room_geom\u001b[38;5;241m.\u001b[39mSet([\u001b[38;5;124m\"\u001b[39m\u001b[38;5;124mbox\u001b[39m\u001b[38;5;124m\"\u001b[39m])\n\u001b[1;32m     11\u001b[0m room_prim\u001b[38;5;241m.\u001b[39mGetAttribute(\u001b[38;5;124m\"\u001b[39m\u001b[38;5;124mextent\u001b[39m\u001b[38;5;124m\"\u001b[39m)\u001b[38;5;241m.\u001b[39mSet([\u001b[38;5;241m3.5\u001b[39m, \u001b[38;5;241m2.8\u001b[39m, \u001b[38;5;241m3\u001b[39m])  \u001b[38;5;66;03m# 长度、宽度和高度\u001b[39;00m\n",
      "\u001b[0;31mAttributeError\u001b[0m: type object 'Attribute' has no attribute 'Tokens'"
     ]
    }
   ],
   "source": [
    "import pxr.Usd as usd\n",
    "\n",
    "# 创建新的 USD 根层\n",
    "stage = usd.Stage.CreateInMemory(\"RoomLayout.usda\")\n",
    "root_layer = stage.GetRootLayer()\n",
    "\n",
    "# 添加房间的基本几何体（长方体）\n",
    "room_prim = stage.DefinePrim(\"/Room\", \"Box\")\n",
    "room_geom = room_prim.CreateAttribute(\"geometry\", usd.Attribute.Tokens)\n",
    "room_geom.Set([\"box\"])\n",
    "room_prim.GetAttribute(\"extent\").Set([3.5, 2.8, 3])  # 长度、宽度和高度\n",
    "\n",
    "# 添加家具，例如床\n",
    "bed_prim = stage.DefinePrim(\"/Bed\", \"Box\")\n",
    "bed_geom = bed_prim.CreateAttribute(\"geometry\", usd.Attribute.Tokens)\n",
    "bed_geom.Set([\"box\"])\n",
    "bed_prim.GetAttribute(\"extent\").Set([2.1, 1.5, 0.8])  # 长度、宽度和高度\n",
    "bed_prim.AddTransformOp().SetTranslation([-1.7, 0.9, 0])  # 床放在靠窗的一侧\n",
    "\n",
    "# 添加书桌\n",
    "desk_prim = stage.DefinePrim(\"/Desk\", \"Box\")\n",
    "desk_geom = desk_prim.CreateAttribute(\"geometry\", usd.Attribute.Tokens)\n",
    "desk_geom.Set([\"box\"])\n",
    "desk_prim.GetAttribute(\"extent\").Set([1, 0.6, 0.8])  # 长度、宽度和高度\n",
    "desk_prim.AddTransformOp().SetTranslation([-1.7, -1.25, 0])  # 在西南角，面向窗户\n",
    "\n",
    "# 添加靠背椅\n",
    "chair_prim = stage.DefinePrim(\"/Chair\", \"Box\")\n",
    "chair_geom = chair_prim.CreateAttribute(\"geometry\", usd.Attribute.Tokens)\n",
    "chair_geom.Set([\"box\"])\n",
    "chair_prim.GetAttribute(\"extent\").Set([0.5, 0.5, 0.45])  # 假设椅子尺寸\n",
    "chair_prim.AddTransformOp().SetTranslation([-1.2, -1.25, 0])  # 在书桌旁边\n",
    "\n",
    "# 添加衣柜\n",
    "wardrobe_prim = stage.DefinePrim(\"/Wardrobe\", \"Box\")\n",
    "wardrobe_geom = wardrobe_prim.CreateAttribute(\"geometry\", usd.Attribute.Tokens)\n",
    "wardrobe_geom.Set([\"box\"])\n",
    "wardrobe_prim.GetAttribute(\"extent\").Set([1.2, 0.4, 2])  # 长度、宽度和高度\n",
    "wardrobe_prim.AddTransformOp().SetTranslation([-0.25, -0.9, 0])  # 在房间另一侧\n",
    "\n",
    "# 提交更改并保存 USD 文件\n",
    "stage.GetRootLayer().Save()"
   ]
  }
 ],
 "metadata": {
  "kernelspec": {
   "display_name": "Python 3 (ipykernel)",
   "language": "python",
   "name": "python3"
  },
  "language_info": {
   "codemirror_mode": {
    "name": "ipython",
    "version": 3
   },
   "file_extension": ".py",
   "mimetype": "text/x-python",
   "name": "python",
   "nbconvert_exporter": "python",
   "pygments_lexer": "ipython3",
   "version": "3.11.7"
  }
 },
 "nbformat": 4,
 "nbformat_minor": 5
}
